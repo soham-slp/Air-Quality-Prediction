{
 "cells": [
  {
   "cell_type": "code",
   "execution_count": 1,
   "id": "c8483d7c-e66a-4efb-a389-7f2aa039fdc3",
   "metadata": {
    "tags": []
   },
   "outputs": [],
   "source": [
    "import numpy as np\n",
    "import seaborn as sns\n",
    "import pandas as pd\n",
    "import matplotlib.pyplot as plt\n",
    "%matplotlib inline"
   ]
  },
  {
   "cell_type": "code",
   "execution_count": 2,
   "id": "f85b32bc-8cb9-4404-9fee-91276b224944",
   "metadata": {
    "tags": []
   },
   "outputs": [],
   "source": [
    "from sklearn.model_selection import train_test_split\n",
    "from sklearn.impute import KNNImputer\n",
    "import tensorflow as tf"
   ]
  },
  {
   "cell_type": "code",
   "execution_count": 69,
   "id": "0c9e8e85-352c-44ac-b97d-18918e3513f4",
   "metadata": {
    "tags": []
   },
   "outputs": [],
   "source": [
    "from sklearn.metrics import mean_squared_error"
   ]
  },
  {
   "cell_type": "code",
   "execution_count": 3,
   "id": "a712fe95-caed-4ca4-b80b-5b4ec5859b58",
   "metadata": {
    "tags": []
   },
   "outputs": [],
   "source": [
    "df_orig = pd.read_csv('./datasets/city_day.csv')"
   ]
  },
  {
   "cell_type": "code",
   "execution_count": 4,
   "id": "111a48d4-77fe-4803-add4-1e5f048b4449",
   "metadata": {
    "tags": []
   },
   "outputs": [
    {
     "data": {
      "text/html": [
       "<div>\n",
       "<style scoped>\n",
       "    .dataframe tbody tr th:only-of-type {\n",
       "        vertical-align: middle;\n",
       "    }\n",
       "\n",
       "    .dataframe tbody tr th {\n",
       "        vertical-align: top;\n",
       "    }\n",
       "\n",
       "    .dataframe thead th {\n",
       "        text-align: right;\n",
       "    }\n",
       "</style>\n",
       "<table border=\"1\" class=\"dataframe\">\n",
       "  <thead>\n",
       "    <tr style=\"text-align: right;\">\n",
       "      <th></th>\n",
       "      <th>City</th>\n",
       "      <th>Date</th>\n",
       "      <th>PM2.5</th>\n",
       "      <th>PM10</th>\n",
       "      <th>NO</th>\n",
       "      <th>NO2</th>\n",
       "      <th>NOx</th>\n",
       "      <th>NH3</th>\n",
       "      <th>CO</th>\n",
       "      <th>SO2</th>\n",
       "      <th>O3</th>\n",
       "      <th>Benzene</th>\n",
       "      <th>Toluene</th>\n",
       "      <th>Xylene</th>\n",
       "      <th>AQI</th>\n",
       "      <th>AQI_Bucket</th>\n",
       "    </tr>\n",
       "  </thead>\n",
       "  <tbody>\n",
       "    <tr>\n",
       "      <th>0</th>\n",
       "      <td>Ahmedabad</td>\n",
       "      <td>2015-01-01</td>\n",
       "      <td>NaN</td>\n",
       "      <td>NaN</td>\n",
       "      <td>0.92</td>\n",
       "      <td>18.22</td>\n",
       "      <td>17.15</td>\n",
       "      <td>NaN</td>\n",
       "      <td>0.92</td>\n",
       "      <td>27.64</td>\n",
       "      <td>133.36</td>\n",
       "      <td>0.00</td>\n",
       "      <td>0.02</td>\n",
       "      <td>0.00</td>\n",
       "      <td>NaN</td>\n",
       "      <td>NaN</td>\n",
       "    </tr>\n",
       "    <tr>\n",
       "      <th>1</th>\n",
       "      <td>Ahmedabad</td>\n",
       "      <td>2015-01-02</td>\n",
       "      <td>NaN</td>\n",
       "      <td>NaN</td>\n",
       "      <td>0.97</td>\n",
       "      <td>15.69</td>\n",
       "      <td>16.46</td>\n",
       "      <td>NaN</td>\n",
       "      <td>0.97</td>\n",
       "      <td>24.55</td>\n",
       "      <td>34.06</td>\n",
       "      <td>3.68</td>\n",
       "      <td>5.50</td>\n",
       "      <td>3.77</td>\n",
       "      <td>NaN</td>\n",
       "      <td>NaN</td>\n",
       "    </tr>\n",
       "    <tr>\n",
       "      <th>2</th>\n",
       "      <td>Ahmedabad</td>\n",
       "      <td>2015-01-03</td>\n",
       "      <td>NaN</td>\n",
       "      <td>NaN</td>\n",
       "      <td>17.40</td>\n",
       "      <td>19.30</td>\n",
       "      <td>29.70</td>\n",
       "      <td>NaN</td>\n",
       "      <td>17.40</td>\n",
       "      <td>29.07</td>\n",
       "      <td>30.70</td>\n",
       "      <td>6.80</td>\n",
       "      <td>16.40</td>\n",
       "      <td>2.25</td>\n",
       "      <td>NaN</td>\n",
       "      <td>NaN</td>\n",
       "    </tr>\n",
       "    <tr>\n",
       "      <th>3</th>\n",
       "      <td>Ahmedabad</td>\n",
       "      <td>2015-01-04</td>\n",
       "      <td>NaN</td>\n",
       "      <td>NaN</td>\n",
       "      <td>1.70</td>\n",
       "      <td>18.48</td>\n",
       "      <td>17.97</td>\n",
       "      <td>NaN</td>\n",
       "      <td>1.70</td>\n",
       "      <td>18.59</td>\n",
       "      <td>36.08</td>\n",
       "      <td>4.43</td>\n",
       "      <td>10.14</td>\n",
       "      <td>1.00</td>\n",
       "      <td>NaN</td>\n",
       "      <td>NaN</td>\n",
       "    </tr>\n",
       "    <tr>\n",
       "      <th>4</th>\n",
       "      <td>Ahmedabad</td>\n",
       "      <td>2015-01-05</td>\n",
       "      <td>NaN</td>\n",
       "      <td>NaN</td>\n",
       "      <td>22.10</td>\n",
       "      <td>21.42</td>\n",
       "      <td>37.76</td>\n",
       "      <td>NaN</td>\n",
       "      <td>22.10</td>\n",
       "      <td>39.33</td>\n",
       "      <td>39.31</td>\n",
       "      <td>7.01</td>\n",
       "      <td>18.89</td>\n",
       "      <td>2.78</td>\n",
       "      <td>NaN</td>\n",
       "      <td>NaN</td>\n",
       "    </tr>\n",
       "  </tbody>\n",
       "</table>\n",
       "</div>"
      ],
      "text/plain": [
       "        City        Date  PM2.5  PM10     NO    NO2    NOx  NH3     CO    SO2  \\\n",
       "0  Ahmedabad  2015-01-01    NaN   NaN   0.92  18.22  17.15  NaN   0.92  27.64   \n",
       "1  Ahmedabad  2015-01-02    NaN   NaN   0.97  15.69  16.46  NaN   0.97  24.55   \n",
       "2  Ahmedabad  2015-01-03    NaN   NaN  17.40  19.30  29.70  NaN  17.40  29.07   \n",
       "3  Ahmedabad  2015-01-04    NaN   NaN   1.70  18.48  17.97  NaN   1.70  18.59   \n",
       "4  Ahmedabad  2015-01-05    NaN   NaN  22.10  21.42  37.76  NaN  22.10  39.33   \n",
       "\n",
       "       O3  Benzene  Toluene  Xylene  AQI AQI_Bucket  \n",
       "0  133.36     0.00     0.02    0.00  NaN        NaN  \n",
       "1   34.06     3.68     5.50    3.77  NaN        NaN  \n",
       "2   30.70     6.80    16.40    2.25  NaN        NaN  \n",
       "3   36.08     4.43    10.14    1.00  NaN        NaN  \n",
       "4   39.31     7.01    18.89    2.78  NaN        NaN  "
      ]
     },
     "execution_count": 4,
     "metadata": {},
     "output_type": "execute_result"
    }
   ],
   "source": [
    "df_orig.head()"
   ]
  },
  {
   "cell_type": "code",
   "execution_count": 5,
   "id": "30737eb8-f6ca-400d-a56d-8421adf5d7bf",
   "metadata": {
    "tags": []
   },
   "outputs": [
    {
     "data": {
      "text/plain": [
       "array(['Ahmedabad', 'Aizawl', 'Amaravati', 'Amritsar', 'Bengaluru',\n",
       "       'Bhopal', 'Brajrajnagar', 'Chandigarh', 'Chennai', 'Coimbatore',\n",
       "       'Delhi', 'Ernakulam', 'Gurugram', 'Guwahati', 'Hyderabad',\n",
       "       'Jaipur', 'Jorapokhar', 'Kochi', 'Kolkata', 'Lucknow', 'Mumbai',\n",
       "       'Patna', 'Shillong', 'Talcher', 'Thiruvananthapuram',\n",
       "       'Visakhapatnam'], dtype=object)"
      ]
     },
     "execution_count": 5,
     "metadata": {},
     "output_type": "execute_result"
    }
   ],
   "source": [
    "df_orig['City'].unique()"
   ]
  },
  {
   "cell_type": "code",
   "execution_count": 6,
   "id": "da1e9f34-63d3-488f-9dfc-3131b46b9f72",
   "metadata": {
    "tags": []
   },
   "outputs": [],
   "source": [
    "df_orig = df_orig.query('City == \"Chennai\"')"
   ]
  },
  {
   "cell_type": "code",
   "execution_count": 7,
   "id": "31c7c0bd-68fe-4318-8d86-1ffc9c0e787d",
   "metadata": {
    "tags": []
   },
   "outputs": [],
   "source": [
    "df_orig = df_orig.drop(['City', 'Date'], axis = 1).reset_index(drop = True)"
   ]
  },
  {
   "cell_type": "code",
   "execution_count": 8,
   "id": "78d92ea4-4f15-4939-a050-fff22e981266",
   "metadata": {
    "tags": []
   },
   "outputs": [
    {
     "data": {
      "text/html": [
       "<div>\n",
       "<style scoped>\n",
       "    .dataframe tbody tr th:only-of-type {\n",
       "        vertical-align: middle;\n",
       "    }\n",
       "\n",
       "    .dataframe tbody tr th {\n",
       "        vertical-align: top;\n",
       "    }\n",
       "\n",
       "    .dataframe thead th {\n",
       "        text-align: right;\n",
       "    }\n",
       "</style>\n",
       "<table border=\"1\" class=\"dataframe\">\n",
       "  <thead>\n",
       "    <tr style=\"text-align: right;\">\n",
       "      <th></th>\n",
       "      <th>PM2.5</th>\n",
       "      <th>PM10</th>\n",
       "      <th>NO</th>\n",
       "      <th>NO2</th>\n",
       "      <th>NOx</th>\n",
       "      <th>NH3</th>\n",
       "      <th>CO</th>\n",
       "      <th>SO2</th>\n",
       "      <th>O3</th>\n",
       "      <th>Benzene</th>\n",
       "      <th>Toluene</th>\n",
       "      <th>Xylene</th>\n",
       "      <th>AQI</th>\n",
       "      <th>AQI_Bucket</th>\n",
       "    </tr>\n",
       "  </thead>\n",
       "  <tbody>\n",
       "    <tr>\n",
       "      <th>0</th>\n",
       "      <td>NaN</td>\n",
       "      <td>NaN</td>\n",
       "      <td>16.30</td>\n",
       "      <td>15.39</td>\n",
       "      <td>22.68</td>\n",
       "      <td>4.59</td>\n",
       "      <td>1.17</td>\n",
       "      <td>9.20</td>\n",
       "      <td>11.35</td>\n",
       "      <td>0.17</td>\n",
       "      <td>NaN</td>\n",
       "      <td>NaN</td>\n",
       "      <td>NaN</td>\n",
       "      <td>NaN</td>\n",
       "    </tr>\n",
       "    <tr>\n",
       "      <th>1</th>\n",
       "      <td>NaN</td>\n",
       "      <td>NaN</td>\n",
       "      <td>16.49</td>\n",
       "      <td>13.42</td>\n",
       "      <td>23.09</td>\n",
       "      <td>7.83</td>\n",
       "      <td>1.23</td>\n",
       "      <td>8.61</td>\n",
       "      <td>9.16</td>\n",
       "      <td>0.13</td>\n",
       "      <td>NaN</td>\n",
       "      <td>NaN</td>\n",
       "      <td>NaN</td>\n",
       "      <td>NaN</td>\n",
       "    </tr>\n",
       "    <tr>\n",
       "      <th>2</th>\n",
       "      <td>NaN</td>\n",
       "      <td>NaN</td>\n",
       "      <td>9.72</td>\n",
       "      <td>19.56</td>\n",
       "      <td>9.99</td>\n",
       "      <td>4.63</td>\n",
       "      <td>0.77</td>\n",
       "      <td>48.23</td>\n",
       "      <td>13.45</td>\n",
       "      <td>0.03</td>\n",
       "      <td>NaN</td>\n",
       "      <td>NaN</td>\n",
       "      <td>NaN</td>\n",
       "      <td>NaN</td>\n",
       "    </tr>\n",
       "    <tr>\n",
       "      <th>3</th>\n",
       "      <td>NaN</td>\n",
       "      <td>NaN</td>\n",
       "      <td>9.60</td>\n",
       "      <td>16.20</td>\n",
       "      <td>11.71</td>\n",
       "      <td>5.23</td>\n",
       "      <td>1.00</td>\n",
       "      <td>27.96</td>\n",
       "      <td>10.33</td>\n",
       "      <td>NaN</td>\n",
       "      <td>NaN</td>\n",
       "      <td>NaN</td>\n",
       "      <td>NaN</td>\n",
       "      <td>NaN</td>\n",
       "    </tr>\n",
       "    <tr>\n",
       "      <th>4</th>\n",
       "      <td>NaN</td>\n",
       "      <td>NaN</td>\n",
       "      <td>9.16</td>\n",
       "      <td>16.30</td>\n",
       "      <td>12.94</td>\n",
       "      <td>5.50</td>\n",
       "      <td>0.90</td>\n",
       "      <td>16.60</td>\n",
       "      <td>9.36</td>\n",
       "      <td>NaN</td>\n",
       "      <td>NaN</td>\n",
       "      <td>NaN</td>\n",
       "      <td>NaN</td>\n",
       "      <td>NaN</td>\n",
       "    </tr>\n",
       "  </tbody>\n",
       "</table>\n",
       "</div>"
      ],
      "text/plain": [
       "   PM2.5  PM10     NO    NO2    NOx   NH3    CO    SO2     O3  Benzene  \\\n",
       "0    NaN   NaN  16.30  15.39  22.68  4.59  1.17   9.20  11.35     0.17   \n",
       "1    NaN   NaN  16.49  13.42  23.09  7.83  1.23   8.61   9.16     0.13   \n",
       "2    NaN   NaN   9.72  19.56   9.99  4.63  0.77  48.23  13.45     0.03   \n",
       "3    NaN   NaN   9.60  16.20  11.71  5.23  1.00  27.96  10.33      NaN   \n",
       "4    NaN   NaN   9.16  16.30  12.94  5.50  0.90  16.60   9.36      NaN   \n",
       "\n",
       "   Toluene  Xylene  AQI AQI_Bucket  \n",
       "0      NaN     NaN  NaN        NaN  \n",
       "1      NaN     NaN  NaN        NaN  \n",
       "2      NaN     NaN  NaN        NaN  \n",
       "3      NaN     NaN  NaN        NaN  \n",
       "4      NaN     NaN  NaN        NaN  "
      ]
     },
     "execution_count": 8,
     "metadata": {},
     "output_type": "execute_result"
    }
   ],
   "source": [
    "df_orig.head()"
   ]
  },
  {
   "cell_type": "code",
   "execution_count": 9,
   "id": "11dc5edd-4dde-439e-82c1-bcc9a23dacc3",
   "metadata": {
    "tags": []
   },
   "outputs": [
    {
     "data": {
      "text/plain": [
       "(2009, 14)"
      ]
     },
     "execution_count": 9,
     "metadata": {},
     "output_type": "execute_result"
    }
   ],
   "source": [
    "df_orig.shape"
   ]
  },
  {
   "cell_type": "code",
   "execution_count": 10,
   "id": "a198ef42-8b45-444c-810e-3bf22d27528d",
   "metadata": {
    "tags": []
   },
   "outputs": [
    {
     "data": {
      "text/plain": [
       "PM2.5          117\n",
       "PM10          1707\n",
       "NO              36\n",
       "NO2             36\n",
       "NOx             36\n",
       "NH3            462\n",
       "CO              25\n",
       "SO2             36\n",
       "O3              49\n",
       "Benzene        285\n",
       "Toluene        253\n",
       "Xylene        2009\n",
       "AQI            125\n",
       "AQI_Bucket     125\n",
       "dtype: int64"
      ]
     },
     "execution_count": 10,
     "metadata": {},
     "output_type": "execute_result"
    }
   ],
   "source": [
    "df_orig.isna().sum()\n"
   ]
  },
  {
   "cell_type": "code",
   "execution_count": 11,
   "id": "34f16398-bbb8-467a-934e-cbaf8ae2179c",
   "metadata": {
    "tags": []
   },
   "outputs": [],
   "source": [
    "df_orig.drop(['Xylene'], inplace = True, axis = 1)"
   ]
  },
  {
   "cell_type": "code",
   "execution_count": 12,
   "id": "dbfd2e77-66c7-422a-901d-f02b749cb39e",
   "metadata": {
    "tags": []
   },
   "outputs": [
    {
     "data": {
      "text/html": [
       "<div>\n",
       "<style scoped>\n",
       "    .dataframe tbody tr th:only-of-type {\n",
       "        vertical-align: middle;\n",
       "    }\n",
       "\n",
       "    .dataframe tbody tr th {\n",
       "        vertical-align: top;\n",
       "    }\n",
       "\n",
       "    .dataframe thead th {\n",
       "        text-align: right;\n",
       "    }\n",
       "</style>\n",
       "<table border=\"1\" class=\"dataframe\">\n",
       "  <thead>\n",
       "    <tr style=\"text-align: right;\">\n",
       "      <th></th>\n",
       "      <th>PM2.5</th>\n",
       "      <th>PM10</th>\n",
       "      <th>NO</th>\n",
       "      <th>NO2</th>\n",
       "      <th>NOx</th>\n",
       "      <th>NH3</th>\n",
       "      <th>CO</th>\n",
       "      <th>SO2</th>\n",
       "      <th>O3</th>\n",
       "      <th>Benzene</th>\n",
       "      <th>Toluene</th>\n",
       "      <th>AQI</th>\n",
       "      <th>AQI_Bucket</th>\n",
       "    </tr>\n",
       "  </thead>\n",
       "  <tbody>\n",
       "    <tr>\n",
       "      <th>0</th>\n",
       "      <td>NaN</td>\n",
       "      <td>NaN</td>\n",
       "      <td>16.30</td>\n",
       "      <td>15.39</td>\n",
       "      <td>22.68</td>\n",
       "      <td>4.59</td>\n",
       "      <td>1.17</td>\n",
       "      <td>9.20</td>\n",
       "      <td>11.35</td>\n",
       "      <td>0.17</td>\n",
       "      <td>NaN</td>\n",
       "      <td>NaN</td>\n",
       "      <td>NaN</td>\n",
       "    </tr>\n",
       "    <tr>\n",
       "      <th>1</th>\n",
       "      <td>NaN</td>\n",
       "      <td>NaN</td>\n",
       "      <td>16.49</td>\n",
       "      <td>13.42</td>\n",
       "      <td>23.09</td>\n",
       "      <td>7.83</td>\n",
       "      <td>1.23</td>\n",
       "      <td>8.61</td>\n",
       "      <td>9.16</td>\n",
       "      <td>0.13</td>\n",
       "      <td>NaN</td>\n",
       "      <td>NaN</td>\n",
       "      <td>NaN</td>\n",
       "    </tr>\n",
       "    <tr>\n",
       "      <th>2</th>\n",
       "      <td>NaN</td>\n",
       "      <td>NaN</td>\n",
       "      <td>9.72</td>\n",
       "      <td>19.56</td>\n",
       "      <td>9.99</td>\n",
       "      <td>4.63</td>\n",
       "      <td>0.77</td>\n",
       "      <td>48.23</td>\n",
       "      <td>13.45</td>\n",
       "      <td>0.03</td>\n",
       "      <td>NaN</td>\n",
       "      <td>NaN</td>\n",
       "      <td>NaN</td>\n",
       "    </tr>\n",
       "    <tr>\n",
       "      <th>3</th>\n",
       "      <td>NaN</td>\n",
       "      <td>NaN</td>\n",
       "      <td>9.60</td>\n",
       "      <td>16.20</td>\n",
       "      <td>11.71</td>\n",
       "      <td>5.23</td>\n",
       "      <td>1.00</td>\n",
       "      <td>27.96</td>\n",
       "      <td>10.33</td>\n",
       "      <td>NaN</td>\n",
       "      <td>NaN</td>\n",
       "      <td>NaN</td>\n",
       "      <td>NaN</td>\n",
       "    </tr>\n",
       "    <tr>\n",
       "      <th>4</th>\n",
       "      <td>NaN</td>\n",
       "      <td>NaN</td>\n",
       "      <td>9.16</td>\n",
       "      <td>16.30</td>\n",
       "      <td>12.94</td>\n",
       "      <td>5.50</td>\n",
       "      <td>0.90</td>\n",
       "      <td>16.60</td>\n",
       "      <td>9.36</td>\n",
       "      <td>NaN</td>\n",
       "      <td>NaN</td>\n",
       "      <td>NaN</td>\n",
       "      <td>NaN</td>\n",
       "    </tr>\n",
       "    <tr>\n",
       "      <th>...</th>\n",
       "      <td>...</td>\n",
       "      <td>...</td>\n",
       "      <td>...</td>\n",
       "      <td>...</td>\n",
       "      <td>...</td>\n",
       "      <td>...</td>\n",
       "      <td>...</td>\n",
       "      <td>...</td>\n",
       "      <td>...</td>\n",
       "      <td>...</td>\n",
       "      <td>...</td>\n",
       "      <td>...</td>\n",
       "      <td>...</td>\n",
       "    </tr>\n",
       "    <tr>\n",
       "      <th>2004</th>\n",
       "      <td>26.42</td>\n",
       "      <td>39.30</td>\n",
       "      <td>7.25</td>\n",
       "      <td>12.96</td>\n",
       "      <td>19.59</td>\n",
       "      <td>33.20</td>\n",
       "      <td>1.10</td>\n",
       "      <td>7.29</td>\n",
       "      <td>68.51</td>\n",
       "      <td>0.10</td>\n",
       "      <td>0.07</td>\n",
       "      <td>95.0</td>\n",
       "      <td>Satisfactory</td>\n",
       "    </tr>\n",
       "    <tr>\n",
       "      <th>2005</th>\n",
       "      <td>25.93</td>\n",
       "      <td>45.54</td>\n",
       "      <td>7.81</td>\n",
       "      <td>10.00</td>\n",
       "      <td>16.39</td>\n",
       "      <td>35.98</td>\n",
       "      <td>0.76</td>\n",
       "      <td>6.48</td>\n",
       "      <td>77.45</td>\n",
       "      <td>0.09</td>\n",
       "      <td>0.00</td>\n",
       "      <td>98.0</td>\n",
       "      <td>Satisfactory</td>\n",
       "    </tr>\n",
       "    <tr>\n",
       "      <th>2006</th>\n",
       "      <td>21.30</td>\n",
       "      <td>22.21</td>\n",
       "      <td>7.65</td>\n",
       "      <td>9.69</td>\n",
       "      <td>16.74</td>\n",
       "      <td>34.07</td>\n",
       "      <td>0.96</td>\n",
       "      <td>6.62</td>\n",
       "      <td>62.57</td>\n",
       "      <td>0.09</td>\n",
       "      <td>0.01</td>\n",
       "      <td>104.0</td>\n",
       "      <td>Moderate</td>\n",
       "    </tr>\n",
       "    <tr>\n",
       "      <th>2007</th>\n",
       "      <td>24.14</td>\n",
       "      <td>30.66</td>\n",
       "      <td>8.42</td>\n",
       "      <td>12.38</td>\n",
       "      <td>20.29</td>\n",
       "      <td>34.17</td>\n",
       "      <td>1.05</td>\n",
       "      <td>7.50</td>\n",
       "      <td>68.75</td>\n",
       "      <td>0.17</td>\n",
       "      <td>0.16</td>\n",
       "      <td>110.0</td>\n",
       "      <td>Moderate</td>\n",
       "    </tr>\n",
       "    <tr>\n",
       "      <th>2008</th>\n",
       "      <td>15.95</td>\n",
       "      <td>4.85</td>\n",
       "      <td>6.22</td>\n",
       "      <td>10.72</td>\n",
       "      <td>16.44</td>\n",
       "      <td>33.52</td>\n",
       "      <td>1.02</td>\n",
       "      <td>9.23</td>\n",
       "      <td>48.37</td>\n",
       "      <td>0.09</td>\n",
       "      <td>0.00</td>\n",
       "      <td>92.0</td>\n",
       "      <td>Satisfactory</td>\n",
       "    </tr>\n",
       "  </tbody>\n",
       "</table>\n",
       "<p>2009 rows × 13 columns</p>\n",
       "</div>"
      ],
      "text/plain": [
       "      PM2.5   PM10     NO    NO2    NOx    NH3    CO    SO2     O3  Benzene  \\\n",
       "0       NaN    NaN  16.30  15.39  22.68   4.59  1.17   9.20  11.35     0.17   \n",
       "1       NaN    NaN  16.49  13.42  23.09   7.83  1.23   8.61   9.16     0.13   \n",
       "2       NaN    NaN   9.72  19.56   9.99   4.63  0.77  48.23  13.45     0.03   \n",
       "3       NaN    NaN   9.60  16.20  11.71   5.23  1.00  27.96  10.33      NaN   \n",
       "4       NaN    NaN   9.16  16.30  12.94   5.50  0.90  16.60   9.36      NaN   \n",
       "...     ...    ...    ...    ...    ...    ...   ...    ...    ...      ...   \n",
       "2004  26.42  39.30   7.25  12.96  19.59  33.20  1.10   7.29  68.51     0.10   \n",
       "2005  25.93  45.54   7.81  10.00  16.39  35.98  0.76   6.48  77.45     0.09   \n",
       "2006  21.30  22.21   7.65   9.69  16.74  34.07  0.96   6.62  62.57     0.09   \n",
       "2007  24.14  30.66   8.42  12.38  20.29  34.17  1.05   7.50  68.75     0.17   \n",
       "2008  15.95   4.85   6.22  10.72  16.44  33.52  1.02   9.23  48.37     0.09   \n",
       "\n",
       "      Toluene    AQI    AQI_Bucket  \n",
       "0         NaN    NaN           NaN  \n",
       "1         NaN    NaN           NaN  \n",
       "2         NaN    NaN           NaN  \n",
       "3         NaN    NaN           NaN  \n",
       "4         NaN    NaN           NaN  \n",
       "...       ...    ...           ...  \n",
       "2004     0.07   95.0  Satisfactory  \n",
       "2005     0.00   98.0  Satisfactory  \n",
       "2006     0.01  104.0      Moderate  \n",
       "2007     0.16  110.0      Moderate  \n",
       "2008     0.00   92.0  Satisfactory  \n",
       "\n",
       "[2009 rows x 13 columns]"
      ]
     },
     "execution_count": 12,
     "metadata": {},
     "output_type": "execute_result"
    }
   ],
   "source": [
    "df_orig"
   ]
  },
  {
   "cell_type": "code",
   "execution_count": 13,
   "id": "ccb438f7-9aea-44a1-82fc-25769da9ff43",
   "metadata": {
    "tags": []
   },
   "outputs": [],
   "source": [
    "df_orig.dropna(subset=['AQI'], inplace = True)"
   ]
  },
  {
   "cell_type": "code",
   "execution_count": 14,
   "id": "04dbcf38-1598-4152-a11d-d6f19fae7cdd",
   "metadata": {
    "tags": []
   },
   "outputs": [
    {
     "data": {
      "text/plain": [
       "PM2.5            6\n",
       "PM10          1582\n",
       "NO               6\n",
       "NO2              6\n",
       "NOx              6\n",
       "NH3            427\n",
       "CO               5\n",
       "SO2              6\n",
       "O3              18\n",
       "Benzene        204\n",
       "Toluene        178\n",
       "AQI              0\n",
       "AQI_Bucket       0\n",
       "dtype: int64"
      ]
     },
     "execution_count": 14,
     "metadata": {},
     "output_type": "execute_result"
    }
   ],
   "source": [
    "df_orig.isna().sum()"
   ]
  },
  {
   "cell_type": "code",
   "execution_count": 15,
   "id": "8245377d-41b9-4ac3-b8db-30aee7e824b8",
   "metadata": {
    "tags": []
   },
   "outputs": [
    {
     "data": {
      "text/plain": [
       "(1884, 13)"
      ]
     },
     "execution_count": 15,
     "metadata": {},
     "output_type": "execute_result"
    }
   ],
   "source": [
    "df_orig.shape"
   ]
  },
  {
   "cell_type": "code",
   "execution_count": 16,
   "id": "ae86f2ea-2167-4004-9741-182bf1c0e7d6",
   "metadata": {
    "tags": []
   },
   "outputs": [
    {
     "data": {
      "text/html": [
       "<div>\n",
       "<style scoped>\n",
       "    .dataframe tbody tr th:only-of-type {\n",
       "        vertical-align: middle;\n",
       "    }\n",
       "\n",
       "    .dataframe tbody tr th {\n",
       "        vertical-align: top;\n",
       "    }\n",
       "\n",
       "    .dataframe thead th {\n",
       "        text-align: right;\n",
       "    }\n",
       "</style>\n",
       "<table border=\"1\" class=\"dataframe\">\n",
       "  <thead>\n",
       "    <tr style=\"text-align: right;\">\n",
       "      <th></th>\n",
       "      <th>PM2.5</th>\n",
       "      <th>PM10</th>\n",
       "      <th>NO</th>\n",
       "      <th>NO2</th>\n",
       "      <th>NOx</th>\n",
       "      <th>NH3</th>\n",
       "      <th>CO</th>\n",
       "      <th>SO2</th>\n",
       "      <th>O3</th>\n",
       "      <th>Benzene</th>\n",
       "      <th>Toluene</th>\n",
       "      <th>AQI</th>\n",
       "    </tr>\n",
       "  </thead>\n",
       "  <tbody>\n",
       "    <tr>\n",
       "      <th>PM2.5</th>\n",
       "      <td>1.000000</td>\n",
       "      <td>0.385231</td>\n",
       "      <td>0.127251</td>\n",
       "      <td>0.223786</td>\n",
       "      <td>0.034335</td>\n",
       "      <td>0.102498</td>\n",
       "      <td>0.041947</td>\n",
       "      <td>0.144770</td>\n",
       "      <td>0.108189</td>\n",
       "      <td>0.012159</td>\n",
       "      <td>0.079852</td>\n",
       "      <td>0.685568</td>\n",
       "    </tr>\n",
       "    <tr>\n",
       "      <th>PM10</th>\n",
       "      <td>0.385231</td>\n",
       "      <td>1.000000</td>\n",
       "      <td>0.041308</td>\n",
       "      <td>-0.045340</td>\n",
       "      <td>-0.008916</td>\n",
       "      <td>0.053242</td>\n",
       "      <td>0.030147</td>\n",
       "      <td>0.042268</td>\n",
       "      <td>0.011705</td>\n",
       "      <td>0.005327</td>\n",
       "      <td>-0.008690</td>\n",
       "      <td>0.368481</td>\n",
       "    </tr>\n",
       "    <tr>\n",
       "      <th>NO</th>\n",
       "      <td>0.127251</td>\n",
       "      <td>0.041308</td>\n",
       "      <td>1.000000</td>\n",
       "      <td>0.617305</td>\n",
       "      <td>0.558766</td>\n",
       "      <td>-0.094765</td>\n",
       "      <td>0.238024</td>\n",
       "      <td>0.183316</td>\n",
       "      <td>-0.134157</td>\n",
       "      <td>-0.003754</td>\n",
       "      <td>0.069963</td>\n",
       "      <td>0.111503</td>\n",
       "    </tr>\n",
       "    <tr>\n",
       "      <th>NO2</th>\n",
       "      <td>0.223786</td>\n",
       "      <td>-0.045340</td>\n",
       "      <td>0.617305</td>\n",
       "      <td>1.000000</td>\n",
       "      <td>0.526142</td>\n",
       "      <td>0.053177</td>\n",
       "      <td>0.150967</td>\n",
       "      <td>0.122025</td>\n",
       "      <td>-0.035406</td>\n",
       "      <td>-0.012613</td>\n",
       "      <td>0.045106</td>\n",
       "      <td>0.195012</td>\n",
       "    </tr>\n",
       "    <tr>\n",
       "      <th>NOx</th>\n",
       "      <td>0.034335</td>\n",
       "      <td>-0.008916</td>\n",
       "      <td>0.558766</td>\n",
       "      <td>0.526142</td>\n",
       "      <td>1.000000</td>\n",
       "      <td>-0.087911</td>\n",
       "      <td>0.055753</td>\n",
       "      <td>0.226742</td>\n",
       "      <td>-0.087956</td>\n",
       "      <td>-0.020801</td>\n",
       "      <td>0.035807</td>\n",
       "      <td>0.020316</td>\n",
       "    </tr>\n",
       "    <tr>\n",
       "      <th>NH3</th>\n",
       "      <td>0.102498</td>\n",
       "      <td>0.053242</td>\n",
       "      <td>-0.094765</td>\n",
       "      <td>0.053177</td>\n",
       "      <td>-0.087911</td>\n",
       "      <td>1.000000</td>\n",
       "      <td>-0.103564</td>\n",
       "      <td>0.015468</td>\n",
       "      <td>0.010435</td>\n",
       "      <td>-0.019443</td>\n",
       "      <td>0.002480</td>\n",
       "      <td>0.031652</td>\n",
       "    </tr>\n",
       "    <tr>\n",
       "      <th>CO</th>\n",
       "      <td>0.041947</td>\n",
       "      <td>0.030147</td>\n",
       "      <td>0.238024</td>\n",
       "      <td>0.150967</td>\n",
       "      <td>0.055753</td>\n",
       "      <td>-0.103564</td>\n",
       "      <td>1.000000</td>\n",
       "      <td>0.060611</td>\n",
       "      <td>-0.097997</td>\n",
       "      <td>0.075022</td>\n",
       "      <td>0.134194</td>\n",
       "      <td>0.354400</td>\n",
       "    </tr>\n",
       "    <tr>\n",
       "      <th>SO2</th>\n",
       "      <td>0.144770</td>\n",
       "      <td>0.042268</td>\n",
       "      <td>0.183316</td>\n",
       "      <td>0.122025</td>\n",
       "      <td>0.226742</td>\n",
       "      <td>0.015468</td>\n",
       "      <td>0.060611</td>\n",
       "      <td>1.000000</td>\n",
       "      <td>-0.000606</td>\n",
       "      <td>0.048061</td>\n",
       "      <td>0.013821</td>\n",
       "      <td>0.090230</td>\n",
       "    </tr>\n",
       "    <tr>\n",
       "      <th>O3</th>\n",
       "      <td>0.108189</td>\n",
       "      <td>0.011705</td>\n",
       "      <td>-0.134157</td>\n",
       "      <td>-0.035406</td>\n",
       "      <td>-0.087956</td>\n",
       "      <td>0.010435</td>\n",
       "      <td>-0.097997</td>\n",
       "      <td>-0.000606</td>\n",
       "      <td>1.000000</td>\n",
       "      <td>-0.024778</td>\n",
       "      <td>0.000359</td>\n",
       "      <td>0.169697</td>\n",
       "    </tr>\n",
       "    <tr>\n",
       "      <th>Benzene</th>\n",
       "      <td>0.012159</td>\n",
       "      <td>0.005327</td>\n",
       "      <td>-0.003754</td>\n",
       "      <td>-0.012613</td>\n",
       "      <td>-0.020801</td>\n",
       "      <td>-0.019443</td>\n",
       "      <td>0.075022</td>\n",
       "      <td>0.048061</td>\n",
       "      <td>-0.024778</td>\n",
       "      <td>1.000000</td>\n",
       "      <td>0.143966</td>\n",
       "      <td>0.028122</td>\n",
       "    </tr>\n",
       "    <tr>\n",
       "      <th>Toluene</th>\n",
       "      <td>0.079852</td>\n",
       "      <td>-0.008690</td>\n",
       "      <td>0.069963</td>\n",
       "      <td>0.045106</td>\n",
       "      <td>0.035807</td>\n",
       "      <td>0.002480</td>\n",
       "      <td>0.134194</td>\n",
       "      <td>0.013821</td>\n",
       "      <td>0.000359</td>\n",
       "      <td>0.143966</td>\n",
       "      <td>1.000000</td>\n",
       "      <td>0.101886</td>\n",
       "    </tr>\n",
       "    <tr>\n",
       "      <th>AQI</th>\n",
       "      <td>0.685568</td>\n",
       "      <td>0.368481</td>\n",
       "      <td>0.111503</td>\n",
       "      <td>0.195012</td>\n",
       "      <td>0.020316</td>\n",
       "      <td>0.031652</td>\n",
       "      <td>0.354400</td>\n",
       "      <td>0.090230</td>\n",
       "      <td>0.169697</td>\n",
       "      <td>0.028122</td>\n",
       "      <td>0.101886</td>\n",
       "      <td>1.000000</td>\n",
       "    </tr>\n",
       "  </tbody>\n",
       "</table>\n",
       "</div>"
      ],
      "text/plain": [
       "            PM2.5      PM10        NO       NO2       NOx       NH3        CO  \\\n",
       "PM2.5    1.000000  0.385231  0.127251  0.223786  0.034335  0.102498  0.041947   \n",
       "PM10     0.385231  1.000000  0.041308 -0.045340 -0.008916  0.053242  0.030147   \n",
       "NO       0.127251  0.041308  1.000000  0.617305  0.558766 -0.094765  0.238024   \n",
       "NO2      0.223786 -0.045340  0.617305  1.000000  0.526142  0.053177  0.150967   \n",
       "NOx      0.034335 -0.008916  0.558766  0.526142  1.000000 -0.087911  0.055753   \n",
       "NH3      0.102498  0.053242 -0.094765  0.053177 -0.087911  1.000000 -0.103564   \n",
       "CO       0.041947  0.030147  0.238024  0.150967  0.055753 -0.103564  1.000000   \n",
       "SO2      0.144770  0.042268  0.183316  0.122025  0.226742  0.015468  0.060611   \n",
       "O3       0.108189  0.011705 -0.134157 -0.035406 -0.087956  0.010435 -0.097997   \n",
       "Benzene  0.012159  0.005327 -0.003754 -0.012613 -0.020801 -0.019443  0.075022   \n",
       "Toluene  0.079852 -0.008690  0.069963  0.045106  0.035807  0.002480  0.134194   \n",
       "AQI      0.685568  0.368481  0.111503  0.195012  0.020316  0.031652  0.354400   \n",
       "\n",
       "              SO2        O3   Benzene   Toluene       AQI  \n",
       "PM2.5    0.144770  0.108189  0.012159  0.079852  0.685568  \n",
       "PM10     0.042268  0.011705  0.005327 -0.008690  0.368481  \n",
       "NO       0.183316 -0.134157 -0.003754  0.069963  0.111503  \n",
       "NO2      0.122025 -0.035406 -0.012613  0.045106  0.195012  \n",
       "NOx      0.226742 -0.087956 -0.020801  0.035807  0.020316  \n",
       "NH3      0.015468  0.010435 -0.019443  0.002480  0.031652  \n",
       "CO       0.060611 -0.097997  0.075022  0.134194  0.354400  \n",
       "SO2      1.000000 -0.000606  0.048061  0.013821  0.090230  \n",
       "O3      -0.000606  1.000000 -0.024778  0.000359  0.169697  \n",
       "Benzene  0.048061 -0.024778  1.000000  0.143966  0.028122  \n",
       "Toluene  0.013821  0.000359  0.143966  1.000000  0.101886  \n",
       "AQI      0.090230  0.169697  0.028122  0.101886  1.000000  "
      ]
     },
     "execution_count": 16,
     "metadata": {},
     "output_type": "execute_result"
    }
   ],
   "source": [
    "df_orig.corr(numeric_only = True)"
   ]
  },
  {
   "cell_type": "code",
   "execution_count": 17,
   "id": "80881629-f704-4416-92a1-b924cf7ea3da",
   "metadata": {
    "tags": []
   },
   "outputs": [],
   "source": [
    "num_keys = list(df_orig.keys())\n",
    "cat_keys = num_keys.pop()"
   ]
  },
  {
   "cell_type": "code",
   "execution_count": 24,
   "id": "e3b70581-e72e-4673-8747-3e259ee39391",
   "metadata": {
    "tags": []
   },
   "outputs": [
    {
     "data": {
      "text/plain": [
       "['PM2.5',\n",
       " 'PM10',\n",
       " 'NO',\n",
       " 'NO2',\n",
       " 'NOx',\n",
       " 'NH3',\n",
       " 'CO',\n",
       " 'SO2',\n",
       " 'O3',\n",
       " 'Benzene',\n",
       " 'Toluene',\n",
       " 'AQI']"
      ]
     },
     "execution_count": 24,
     "metadata": {},
     "output_type": "execute_result"
    }
   ],
   "source": [
    "num_keys"
   ]
  },
  {
   "cell_type": "code",
   "execution_count": 25,
   "id": "7f5c9daf-0e6d-405f-9896-a9beac6458aa",
   "metadata": {
    "tags": []
   },
   "outputs": [
    {
     "data": {
      "text/plain": [
       "'AQI_Bucket'"
      ]
     },
     "execution_count": 25,
     "metadata": {},
     "output_type": "execute_result"
    }
   ],
   "source": [
    "cat_keys"
   ]
  },
  {
   "cell_type": "code",
   "execution_count": 26,
   "id": "70eb3122-7203-40d3-926f-b513c68f1c67",
   "metadata": {
    "tags": []
   },
   "outputs": [],
   "source": [
    "imp = KNNImputer(n_neighbors = 2)\n",
    "\n",
    "df_orig_num = df_orig[num_keys]\n",
    "df_orig_cat = df_orig[cat_keys]\n",
    "\n",
    "df_orig_num = pd.DataFrame(imp.fit_transform(df_orig_num), columns= num_keys)\n",
    "df_orig = df_orig_num\n",
    "df_orig[cat_keys] = df_orig_cat"
   ]
  },
  {
   "cell_type": "code",
   "execution_count": 27,
   "id": "e858c6df-ae90-41f1-ac71-14592474a1ad",
   "metadata": {
    "tags": []
   },
   "outputs": [
    {
     "data": {
      "text/html": [
       "<div>\n",
       "<style scoped>\n",
       "    .dataframe tbody tr th:only-of-type {\n",
       "        vertical-align: middle;\n",
       "    }\n",
       "\n",
       "    .dataframe tbody tr th {\n",
       "        vertical-align: top;\n",
       "    }\n",
       "\n",
       "    .dataframe thead th {\n",
       "        text-align: right;\n",
       "    }\n",
       "</style>\n",
       "<table border=\"1\" class=\"dataframe\">\n",
       "  <thead>\n",
       "    <tr style=\"text-align: right;\">\n",
       "      <th></th>\n",
       "      <th>PM2.5</th>\n",
       "      <th>PM10</th>\n",
       "      <th>NO</th>\n",
       "      <th>NO2</th>\n",
       "      <th>NOx</th>\n",
       "      <th>NH3</th>\n",
       "      <th>CO</th>\n",
       "      <th>SO2</th>\n",
       "      <th>O3</th>\n",
       "      <th>Benzene</th>\n",
       "      <th>Toluene</th>\n",
       "      <th>AQI</th>\n",
       "    </tr>\n",
       "  </thead>\n",
       "  <tbody>\n",
       "    <tr>\n",
       "      <th>PM2.5</th>\n",
       "      <td>1.000000</td>\n",
       "      <td>0.485282</td>\n",
       "      <td>0.126777</td>\n",
       "      <td>0.223670</td>\n",
       "      <td>0.034340</td>\n",
       "      <td>0.102259</td>\n",
       "      <td>0.041506</td>\n",
       "      <td>0.143782</td>\n",
       "      <td>0.106966</td>\n",
       "      <td>-0.013336</td>\n",
       "      <td>0.078818</td>\n",
       "      <td>0.685660</td>\n",
       "    </tr>\n",
       "    <tr>\n",
       "      <th>PM10</th>\n",
       "      <td>0.485282</td>\n",
       "      <td>1.000000</td>\n",
       "      <td>0.028793</td>\n",
       "      <td>0.044761</td>\n",
       "      <td>-0.067853</td>\n",
       "      <td>0.020669</td>\n",
       "      <td>0.130733</td>\n",
       "      <td>0.032137</td>\n",
       "      <td>0.128347</td>\n",
       "      <td>-0.001206</td>\n",
       "      <td>0.041720</td>\n",
       "      <td>0.551063</td>\n",
       "    </tr>\n",
       "    <tr>\n",
       "      <th>NO</th>\n",
       "      <td>0.126777</td>\n",
       "      <td>0.028793</td>\n",
       "      <td>1.000000</td>\n",
       "      <td>0.617521</td>\n",
       "      <td>0.559102</td>\n",
       "      <td>-0.127206</td>\n",
       "      <td>0.238420</td>\n",
       "      <td>0.183756</td>\n",
       "      <td>-0.141547</td>\n",
       "      <td>0.008570</td>\n",
       "      <td>0.054115</td>\n",
       "      <td>0.111733</td>\n",
       "    </tr>\n",
       "    <tr>\n",
       "      <th>NO2</th>\n",
       "      <td>0.223670</td>\n",
       "      <td>0.044761</td>\n",
       "      <td>0.617521</td>\n",
       "      <td>1.000000</td>\n",
       "      <td>0.526530</td>\n",
       "      <td>0.024471</td>\n",
       "      <td>0.150677</td>\n",
       "      <td>0.122368</td>\n",
       "      <td>-0.044730</td>\n",
       "      <td>-0.022512</td>\n",
       "      <td>0.033702</td>\n",
       "      <td>0.195395</td>\n",
       "    </tr>\n",
       "    <tr>\n",
       "      <th>NOx</th>\n",
       "      <td>0.034340</td>\n",
       "      <td>-0.067853</td>\n",
       "      <td>0.559102</td>\n",
       "      <td>0.526530</td>\n",
       "      <td>1.000000</td>\n",
       "      <td>-0.144725</td>\n",
       "      <td>0.055971</td>\n",
       "      <td>0.227322</td>\n",
       "      <td>-0.084600</td>\n",
       "      <td>-0.016784</td>\n",
       "      <td>0.031953</td>\n",
       "      <td>0.020895</td>\n",
       "    </tr>\n",
       "    <tr>\n",
       "      <th>NH3</th>\n",
       "      <td>0.102259</td>\n",
       "      <td>0.020669</td>\n",
       "      <td>-0.127206</td>\n",
       "      <td>0.024471</td>\n",
       "      <td>-0.144725</td>\n",
       "      <td>1.000000</td>\n",
       "      <td>-0.137416</td>\n",
       "      <td>-0.001758</td>\n",
       "      <td>0.050389</td>\n",
       "      <td>-0.054544</td>\n",
       "      <td>-0.027953</td>\n",
       "      <td>0.019966</td>\n",
       "    </tr>\n",
       "    <tr>\n",
       "      <th>CO</th>\n",
       "      <td>0.041506</td>\n",
       "      <td>0.130733</td>\n",
       "      <td>0.238420</td>\n",
       "      <td>0.150677</td>\n",
       "      <td>0.055971</td>\n",
       "      <td>-0.137416</td>\n",
       "      <td>1.000000</td>\n",
       "      <td>0.061747</td>\n",
       "      <td>-0.106319</td>\n",
       "      <td>0.077144</td>\n",
       "      <td>0.102350</td>\n",
       "      <td>0.354104</td>\n",
       "    </tr>\n",
       "    <tr>\n",
       "      <th>SO2</th>\n",
       "      <td>0.143782</td>\n",
       "      <td>0.032137</td>\n",
       "      <td>0.183756</td>\n",
       "      <td>0.122368</td>\n",
       "      <td>0.227322</td>\n",
       "      <td>-0.001758</td>\n",
       "      <td>0.061747</td>\n",
       "      <td>1.000000</td>\n",
       "      <td>0.001005</td>\n",
       "      <td>0.072306</td>\n",
       "      <td>0.025247</td>\n",
       "      <td>0.089884</td>\n",
       "    </tr>\n",
       "    <tr>\n",
       "      <th>O3</th>\n",
       "      <td>0.106966</td>\n",
       "      <td>0.128347</td>\n",
       "      <td>-0.141547</td>\n",
       "      <td>-0.044730</td>\n",
       "      <td>-0.084600</td>\n",
       "      <td>0.050389</td>\n",
       "      <td>-0.106319</td>\n",
       "      <td>0.001005</td>\n",
       "      <td>1.000000</td>\n",
       "      <td>-0.047986</td>\n",
       "      <td>0.025315</td>\n",
       "      <td>0.169504</td>\n",
       "    </tr>\n",
       "    <tr>\n",
       "      <th>Benzene</th>\n",
       "      <td>-0.013336</td>\n",
       "      <td>-0.001206</td>\n",
       "      <td>0.008570</td>\n",
       "      <td>-0.022512</td>\n",
       "      <td>-0.016784</td>\n",
       "      <td>-0.054544</td>\n",
       "      <td>0.077144</td>\n",
       "      <td>0.072306</td>\n",
       "      <td>-0.047986</td>\n",
       "      <td>1.000000</td>\n",
       "      <td>0.107480</td>\n",
       "      <td>0.011736</td>\n",
       "    </tr>\n",
       "    <tr>\n",
       "      <th>Toluene</th>\n",
       "      <td>0.078818</td>\n",
       "      <td>0.041720</td>\n",
       "      <td>0.054115</td>\n",
       "      <td>0.033702</td>\n",
       "      <td>0.031953</td>\n",
       "      <td>-0.027953</td>\n",
       "      <td>0.102350</td>\n",
       "      <td>0.025247</td>\n",
       "      <td>0.025315</td>\n",
       "      <td>0.107480</td>\n",
       "      <td>1.000000</td>\n",
       "      <td>0.086491</td>\n",
       "    </tr>\n",
       "    <tr>\n",
       "      <th>AQI</th>\n",
       "      <td>0.685660</td>\n",
       "      <td>0.551063</td>\n",
       "      <td>0.111733</td>\n",
       "      <td>0.195395</td>\n",
       "      <td>0.020895</td>\n",
       "      <td>0.019966</td>\n",
       "      <td>0.354104</td>\n",
       "      <td>0.089884</td>\n",
       "      <td>0.169504</td>\n",
       "      <td>0.011736</td>\n",
       "      <td>0.086491</td>\n",
       "      <td>1.000000</td>\n",
       "    </tr>\n",
       "  </tbody>\n",
       "</table>\n",
       "</div>"
      ],
      "text/plain": [
       "            PM2.5      PM10        NO       NO2       NOx       NH3        CO  \\\n",
       "PM2.5    1.000000  0.485282  0.126777  0.223670  0.034340  0.102259  0.041506   \n",
       "PM10     0.485282  1.000000  0.028793  0.044761 -0.067853  0.020669  0.130733   \n",
       "NO       0.126777  0.028793  1.000000  0.617521  0.559102 -0.127206  0.238420   \n",
       "NO2      0.223670  0.044761  0.617521  1.000000  0.526530  0.024471  0.150677   \n",
       "NOx      0.034340 -0.067853  0.559102  0.526530  1.000000 -0.144725  0.055971   \n",
       "NH3      0.102259  0.020669 -0.127206  0.024471 -0.144725  1.000000 -0.137416   \n",
       "CO       0.041506  0.130733  0.238420  0.150677  0.055971 -0.137416  1.000000   \n",
       "SO2      0.143782  0.032137  0.183756  0.122368  0.227322 -0.001758  0.061747   \n",
       "O3       0.106966  0.128347 -0.141547 -0.044730 -0.084600  0.050389 -0.106319   \n",
       "Benzene -0.013336 -0.001206  0.008570 -0.022512 -0.016784 -0.054544  0.077144   \n",
       "Toluene  0.078818  0.041720  0.054115  0.033702  0.031953 -0.027953  0.102350   \n",
       "AQI      0.685660  0.551063  0.111733  0.195395  0.020895  0.019966  0.354104   \n",
       "\n",
       "              SO2        O3   Benzene   Toluene       AQI  \n",
       "PM2.5    0.143782  0.106966 -0.013336  0.078818  0.685660  \n",
       "PM10     0.032137  0.128347 -0.001206  0.041720  0.551063  \n",
       "NO       0.183756 -0.141547  0.008570  0.054115  0.111733  \n",
       "NO2      0.122368 -0.044730 -0.022512  0.033702  0.195395  \n",
       "NOx      0.227322 -0.084600 -0.016784  0.031953  0.020895  \n",
       "NH3     -0.001758  0.050389 -0.054544 -0.027953  0.019966  \n",
       "CO       0.061747 -0.106319  0.077144  0.102350  0.354104  \n",
       "SO2      1.000000  0.001005  0.072306  0.025247  0.089884  \n",
       "O3       0.001005  1.000000 -0.047986  0.025315  0.169504  \n",
       "Benzene  0.072306 -0.047986  1.000000  0.107480  0.011736  \n",
       "Toluene  0.025247  0.025315  0.107480  1.000000  0.086491  \n",
       "AQI      0.089884  0.169504  0.011736  0.086491  1.000000  "
      ]
     },
     "execution_count": 27,
     "metadata": {},
     "output_type": "execute_result"
    }
   ],
   "source": [
    "df_orig.corr(numeric_only =True)"
   ]
  },
  {
   "cell_type": "code",
   "execution_count": 28,
   "id": "be90a0a2-1850-4b08-a0e9-4044b6c58f55",
   "metadata": {
    "tags": []
   },
   "outputs": [
    {
     "data": {
      "text/html": [
       "<div>\n",
       "<style scoped>\n",
       "    .dataframe tbody tr th:only-of-type {\n",
       "        vertical-align: middle;\n",
       "    }\n",
       "\n",
       "    .dataframe tbody tr th {\n",
       "        vertical-align: top;\n",
       "    }\n",
       "\n",
       "    .dataframe thead th {\n",
       "        text-align: right;\n",
       "    }\n",
       "</style>\n",
       "<table border=\"1\" class=\"dataframe\">\n",
       "  <thead>\n",
       "    <tr style=\"text-align: right;\">\n",
       "      <th></th>\n",
       "      <th>PM2.5</th>\n",
       "      <th>PM10</th>\n",
       "      <th>NO</th>\n",
       "      <th>NO2</th>\n",
       "      <th>NOx</th>\n",
       "      <th>NH3</th>\n",
       "      <th>CO</th>\n",
       "      <th>SO2</th>\n",
       "      <th>O3</th>\n",
       "      <th>Benzene</th>\n",
       "      <th>Toluene</th>\n",
       "      <th>AQI</th>\n",
       "      <th>AQI_Bucket</th>\n",
       "    </tr>\n",
       "  </thead>\n",
       "  <tbody>\n",
       "    <tr>\n",
       "      <th>0</th>\n",
       "      <td>149.04</td>\n",
       "      <td>196.33</td>\n",
       "      <td>31.23</td>\n",
       "      <td>112.29</td>\n",
       "      <td>12.77</td>\n",
       "      <td>9.68</td>\n",
       "      <td>0.93</td>\n",
       "      <td>14.04</td>\n",
       "      <td>38.67</td>\n",
       "      <td>0.120</td>\n",
       "      <td>8.39</td>\n",
       "      <td>333.0</td>\n",
       "      <td>NaN</td>\n",
       "    </tr>\n",
       "    <tr>\n",
       "      <th>1</th>\n",
       "      <td>140.21</td>\n",
       "      <td>196.33</td>\n",
       "      <td>16.83</td>\n",
       "      <td>31.79</td>\n",
       "      <td>25.73</td>\n",
       "      <td>10.91</td>\n",
       "      <td>1.41</td>\n",
       "      <td>11.94</td>\n",
       "      <td>44.52</td>\n",
       "      <td>0.530</td>\n",
       "      <td>8.02</td>\n",
       "      <td>318.0</td>\n",
       "      <td>NaN</td>\n",
       "    </tr>\n",
       "    <tr>\n",
       "      <th>2</th>\n",
       "      <td>266.29</td>\n",
       "      <td>196.33</td>\n",
       "      <td>39.96</td>\n",
       "      <td>50.12</td>\n",
       "      <td>20.48</td>\n",
       "      <td>11.51</td>\n",
       "      <td>1.27</td>\n",
       "      <td>25.45</td>\n",
       "      <td>27.64</td>\n",
       "      <td>0.220</td>\n",
       "      <td>8.35</td>\n",
       "      <td>408.0</td>\n",
       "      <td>NaN</td>\n",
       "    </tr>\n",
       "    <tr>\n",
       "      <th>3</th>\n",
       "      <td>88.65</td>\n",
       "      <td>196.33</td>\n",
       "      <td>22.83</td>\n",
       "      <td>38.75</td>\n",
       "      <td>20.64</td>\n",
       "      <td>10.97</td>\n",
       "      <td>2.21</td>\n",
       "      <td>11.76</td>\n",
       "      <td>27.68</td>\n",
       "      <td>1.675</td>\n",
       "      <td>6.41</td>\n",
       "      <td>448.0</td>\n",
       "      <td>NaN</td>\n",
       "    </tr>\n",
       "    <tr>\n",
       "      <th>4</th>\n",
       "      <td>51.69</td>\n",
       "      <td>176.65</td>\n",
       "      <td>37.45</td>\n",
       "      <td>46.48</td>\n",
       "      <td>16.09</td>\n",
       "      <td>11.41</td>\n",
       "      <td>1.23</td>\n",
       "      <td>6.53</td>\n",
       "      <td>27.62</td>\n",
       "      <td>0.535</td>\n",
       "      <td>6.94</td>\n",
       "      <td>312.0</td>\n",
       "      <td>NaN</td>\n",
       "    </tr>\n",
       "  </tbody>\n",
       "</table>\n",
       "</div>"
      ],
      "text/plain": [
       "    PM2.5    PM10     NO     NO2    NOx    NH3    CO    SO2     O3  Benzene  \\\n",
       "0  149.04  196.33  31.23  112.29  12.77   9.68  0.93  14.04  38.67    0.120   \n",
       "1  140.21  196.33  16.83   31.79  25.73  10.91  1.41  11.94  44.52    0.530   \n",
       "2  266.29  196.33  39.96   50.12  20.48  11.51  1.27  25.45  27.64    0.220   \n",
       "3   88.65  196.33  22.83   38.75  20.64  10.97  2.21  11.76  27.68    1.675   \n",
       "4   51.69  176.65  37.45   46.48  16.09  11.41  1.23   6.53  27.62    0.535   \n",
       "\n",
       "   Toluene    AQI AQI_Bucket  \n",
       "0     8.39  333.0        NaN  \n",
       "1     8.02  318.0        NaN  \n",
       "2     8.35  408.0        NaN  \n",
       "3     6.41  448.0        NaN  \n",
       "4     6.94  312.0        NaN  "
      ]
     },
     "execution_count": 28,
     "metadata": {},
     "output_type": "execute_result"
    }
   ],
   "source": [
    "df_orig.head()"
   ]
  },
  {
   "cell_type": "code",
   "execution_count": 29,
   "id": "fc4d2660-3bb2-4ea8-b371-b5b3860b9293",
   "metadata": {
    "tags": []
   },
   "outputs": [
    {
     "data": {
      "text/plain": [
       "<Axes: xlabel='PM2.5', ylabel='AQI'>"
      ]
     },
     "execution_count": 29,
     "metadata": {},
     "output_type": "execute_result"
    },
    {
     "data": {
      "image/png": "[encoded data removed]",
      "text/plain": [
       "<Figure size 640x480 with 1 Axes>"
      ]
     },
     "metadata": {},
     "output_type": "display_data"
    }
   ],
   "source": [
    "sns.scatterplot(data = df_orig, x = 'PM2.5', y = 'AQI')\n",
    "\n"
   ]
  },
  {
   "cell_type": "code",
   "execution_count": 30,
   "id": "e0ef46fb-b230-4ce8-829a-51bd78413426",
   "metadata": {
    "tags": []
   },
   "outputs": [
    {
     "data": {
      "text/plain": [
       "<Axes: xlabel='PM10', ylabel='AQI'>"
      ]
     },
     "execution_count": 30,
     "metadata": {},
     "output_type": "execute_result"
    },
    {
     "data": {
      "image/png": "[encoded data removed]",
      "text/plain": [
       "<Figure size 640x480 with 1 Axes>"
      ]
     },
     "metadata": {},
     "output_type": "display_data"
    }
   ],
   "source": [
    "sns.scatterplot(data = df_orig, x = 'PM10', y = 'AQI')"
   ]
  },
  {
   "cell_type": "code",
   "execution_count": 31,
   "id": "67f6da94-c2ef-4140-926c-11a486b075ce",
   "metadata": {
    "tags": []
   },
   "outputs": [
    {
     "data": {
      "text/plain": [
       "<Axes: xlabel='NO', ylabel='AQI'>"
      ]
     },
     "execution_count": 31,
     "metadata": {},
     "output_type": "execute_result"
    },
    {
     "data": {
      "image/png": "[encoded data removed]",
      "text/plain": [
       "<Figure size 640x480 with 1 Axes>"
      ]
     },
     "metadata": {},
     "output_type": "display_data"
    }
   ],
   "source": [
    "sns.scatterplot(data = df_orig, x = 'NO', y = 'AQI')"
   ]
  },
  {
   "cell_type": "code",
   "execution_count": 26,
   "id": "67ed0ec7-374b-4747-b627-a2add2477b5a",
   "metadata": {
    "tags": []
   },
   "outputs": [
    {
     "data": {
      "text/plain": [
       "<Axes: xlabel='NO', ylabel='AQI'>"
      ]
     },
     "execution_count": 26,
     "metadata": {},
     "output_type": "execute_result"
    },
    {
     "data": {
      "image/png": "[encoded data removed]",
      "text/plain": [
       "<Figure size 640x480 with 1 Axes>"
      ]
     },
     "metadata": {},
     "output_type": "display_data"
    }
   ],
   "source": [
    "sns.scatterplot(x = df_orig['NO'], y = df_orig['AQI'])"
   ]
  },
  {
   "cell_type": "code",
   "execution_count": 32,
   "id": "7b068cee-2785-4386-a72b-08e3537c5aca",
   "metadata": {
    "tags": []
   },
   "outputs": [
    {
     "data": {
      "text/plain": [
       "<Axes: xlabel='O3', ylabel='AQI'>"
      ]
     },
     "execution_count": 32,
     "metadata": {},
     "output_type": "execute_result"
    },
    {
     "data": {
      "image/png": "[encoded data removed]",
      "text/plain": [
       "<Figure size 640x480 with 1 Axes>"
      ]
     },
     "metadata": {},
     "output_type": "display_data"
    }
   ],
   "source": [
    "sns.scatterplot(x = df_orig['O3'], y = df_orig['AQI'])"
   ]
  },
  {
   "cell_type": "code",
   "execution_count": 33,
   "id": "fb32e869-ddd7-4d72-ae2b-e301abdb0cb5",
   "metadata": {
    "tags": []
   },
   "outputs": [
    {
     "data": {
      "text/plain": [
       "<Axes: xlabel='AQI_Bucket', ylabel='AQI'>"
      ]
     },
     "execution_count": 33,
     "metadata": {},
     "output_type": "execute_result"
    },
    {
     "data": {
      "image/png": "[encoded data removed]",
      "text/plain": [
       "<Figure size 640x480 with 1 Axes>"
      ]
     },
     "metadata": {},
     "output_type": "display_data"
    }
   ],
   "source": [
    "sns.barplot(x = df_orig['AQI_Bucket'], y = df_orig['AQI'])"
   ]
  },
  {
   "cell_type": "code",
   "execution_count": 34,
   "id": "49396410-c5e2-4259-8347-f00da894f6aa",
   "metadata": {
    "tags": []
   },
   "outputs": [],
   "source": [
    "means = df_orig.mean(numeric_only = True)\n",
    "sds = df_orig.std(numeric_only = True)"
   ]
  },
  {
   "cell_type": "code",
   "execution_count": 35,
   "id": "ca9cb0a3-4e4f-4057-af5c-583e798d52b9",
   "metadata": {
    "tags": []
   },
   "outputs": [
    {
     "data": {
      "text/plain": [
       "PM2.5       50.144575\n",
       "PM10        75.894814\n",
       "NO           8.760058\n",
       "NO2         16.539650\n",
       "NOx         17.839095\n",
       "NH3         69.386388\n",
       "CO           1.019265\n",
       "SO2          7.777070\n",
       "O3          32.338432\n",
       "Benzene      2.317269\n",
       "Toluene      2.735918\n",
       "AQI        114.502654\n",
       "dtype: float64"
      ]
     },
     "execution_count": 35,
     "metadata": {},
     "output_type": "execute_result"
    }
   ],
   "source": [
    "means"
   ]
  },
  {
   "cell_type": "code",
   "execution_count": 37,
   "id": "5bd207f0-bc07-446c-bae5-854ac4304962",
   "metadata": {},
   "outputs": [
    {
     "data": {
      "text/plain": [
       "PM2.5      26.036637\n",
       "PM10       43.535784\n",
       "NO          5.210500\n",
       "NO2         7.488270\n",
       "NOx         7.281772\n",
       "NH3        54.822869\n",
       "CO          1.243612\n",
       "SO2         4.721819\n",
       "O3         14.204541\n",
       "Benzene    14.933318\n",
       "Toluene     9.537829\n",
       "AQI        51.967099\n",
       "dtype: float64"
      ]
     },
     "execution_count": 37,
     "metadata": {},
     "output_type": "execute_result"
    }
   ],
   "source": [
    "sds"
   ]
  },
  {
   "cell_type": "code",
   "execution_count": 153,
   "id": "4adee3d9-de79-4a51-a331-52c68623cdd7",
   "metadata": {},
   "outputs": [],
   "source": [
    "class Model:\n",
    "    def __init__(self, epochs = 100, learning_rate = 0.001, num_layers = 8, num_units = 32):\n",
    "        self.model = None\n",
    "        self.standard_params = None\n",
    "        self.epochs = epochs\n",
    "        self.learning_rate = learning_rate\n",
    "        self.num_features = 0\n",
    "        self.num_layers = num_layers\n",
    "        self.num_units = num_units\n",
    "        self.loss_fn = None\n",
    "        self.optimizer = None\n",
    "        \n",
    "    def _standard_scaler(self, data):\n",
    "        if self.standard_params is None:\n",
    "            mean = np.mean(data, axis = 0)\n",
    "            std = np.std(data, axis = 0)\n",
    "            self.standard_params = {'mean': mean, 'std': std}\n",
    "        \n",
    "        result = (data - self.standard_params['mean']) / (self.standard_params['std'])\n",
    "        return result\n",
    "    \n",
    "    def fit(self, X, y, print_loss = False):\n",
    "        X = self._standard_scaler(X)\n",
    "        y = y.reshape(-1, 1)\n",
    "        \n",
    "        self.num_features = X.shape[1]\n",
    "        \n",
    "        self.loss_fn = tf.keras.losses.MeanSquaredError()\n",
    "        self.optimizer = tf.keras.optimizers.Adam(learning_rate = self.learning_rate)\n",
    "        \n",
    "        history = []\n",
    "        \n",
    "        self.model = tf.keras.Sequential()\n",
    "        \n",
    "        self.model.add(tf.keras.Input(shape = (self.num_features,)))\n",
    "        \n",
    "        for _ in range(self.num_layers):\n",
    "            self.model.add(tf.keras.layers.Dense(self.num_units, activation = 'relu'))\n",
    "        \n",
    "        self.model.add(tf.keras.layers.Dense(1, activation = 'linear'))\n",
    "        \n",
    "        \n",
    "        \n",
    "        for epoch in range(self.epochs):\n",
    "            with tf.GradientTape() as tape:\n",
    "                predictions = self.model(X)\n",
    "                loss_value = self.loss_fn(y, predictions)\n",
    "            \n",
    "            grads = tape.gradient(loss_value, self.model.trainable_variables)\n",
    "            self.optimizer.apply_gradients(zip(grads, self.model.trainable_variables))\n",
    "            \n",
    "            history.append(loss_value)\n",
    "            \n",
    "            if epoch % 10 == 0 and print_loss:\n",
    "                print(f'Ephoch { epoch + 1 }, Loss: { loss_value }')\n",
    "            \n",
    "        return history, self.epochs\n",
    "    \n",
    "    def predict(self, X):\n",
    "        X = self._standard_scaler(X)\n",
    "        \n",
    "        y = self.model(X).numpy()\n",
    "        \n",
    "        return y"
   ]
  },
  {
   "cell_type": "code",
   "execution_count": 54,
   "id": "f36bc6c0-1c32-4dc9-baef-7a067c0faebe",
   "metadata": {
    "tags": []
   },
   "outputs": [],
   "source": [
    "model = Model()"
   ]
  },
  {
   "cell_type": "code",
   "execution_count": 35,
   "id": "d8892558-56cd-464e-9dc2-68537fddcd85",
   "metadata": {
    "tags": []
   },
   "outputs": [
    {
     "data": {
      "text/html": [
       "<div>\n",
       "<style scoped>\n",
       "    .dataframe tbody tr th:only-of-type {\n",
       "        vertical-align: middle;\n",
       "    }\n",
       "\n",
       "    .dataframe tbody tr th {\n",
       "        vertical-align: top;\n",
       "    }\n",
       "\n",
       "    .dataframe thead th {\n",
       "        text-align: right;\n",
       "    }\n",
       "</style>\n",
       "<table border=\"1\" class=\"dataframe\">\n",
       "  <thead>\n",
       "    <tr style=\"text-align: right;\">\n",
       "      <th></th>\n",
       "      <th>PM2.5</th>\n",
       "      <th>PM10</th>\n",
       "      <th>NO</th>\n",
       "      <th>NO2</th>\n",
       "      <th>NOx</th>\n",
       "      <th>NH3</th>\n",
       "      <th>CO</th>\n",
       "      <th>SO2</th>\n",
       "      <th>O3</th>\n",
       "      <th>Benzene</th>\n",
       "      <th>Toluene</th>\n",
       "      <th>AQI</th>\n",
       "      <th>AQI_Bucket</th>\n",
       "    </tr>\n",
       "  </thead>\n",
       "  <tbody>\n",
       "    <tr>\n",
       "      <th>0</th>\n",
       "      <td>149.04</td>\n",
       "      <td>196.33</td>\n",
       "      <td>31.23</td>\n",
       "      <td>112.29</td>\n",
       "      <td>12.77</td>\n",
       "      <td>9.68</td>\n",
       "      <td>0.93</td>\n",
       "      <td>14.04</td>\n",
       "      <td>38.67</td>\n",
       "      <td>0.120</td>\n",
       "      <td>8.39</td>\n",
       "      <td>333.0</td>\n",
       "      <td>NaN</td>\n",
       "    </tr>\n",
       "    <tr>\n",
       "      <th>1</th>\n",
       "      <td>140.21</td>\n",
       "      <td>196.33</td>\n",
       "      <td>16.83</td>\n",
       "      <td>31.79</td>\n",
       "      <td>25.73</td>\n",
       "      <td>10.91</td>\n",
       "      <td>1.41</td>\n",
       "      <td>11.94</td>\n",
       "      <td>44.52</td>\n",
       "      <td>0.530</td>\n",
       "      <td>8.02</td>\n",
       "      <td>318.0</td>\n",
       "      <td>NaN</td>\n",
       "    </tr>\n",
       "    <tr>\n",
       "      <th>2</th>\n",
       "      <td>266.29</td>\n",
       "      <td>196.33</td>\n",
       "      <td>39.96</td>\n",
       "      <td>50.12</td>\n",
       "      <td>20.48</td>\n",
       "      <td>11.51</td>\n",
       "      <td>1.27</td>\n",
       "      <td>25.45</td>\n",
       "      <td>27.64</td>\n",
       "      <td>0.220</td>\n",
       "      <td>8.35</td>\n",
       "      <td>408.0</td>\n",
       "      <td>NaN</td>\n",
       "    </tr>\n",
       "    <tr>\n",
       "      <th>3</th>\n",
       "      <td>88.65</td>\n",
       "      <td>196.33</td>\n",
       "      <td>22.83</td>\n",
       "      <td>38.75</td>\n",
       "      <td>20.64</td>\n",
       "      <td>10.97</td>\n",
       "      <td>2.21</td>\n",
       "      <td>11.76</td>\n",
       "      <td>27.68</td>\n",
       "      <td>1.675</td>\n",
       "      <td>6.41</td>\n",
       "      <td>448.0</td>\n",
       "      <td>NaN</td>\n",
       "    </tr>\n",
       "    <tr>\n",
       "      <th>4</th>\n",
       "      <td>51.69</td>\n",
       "      <td>176.65</td>\n",
       "      <td>37.45</td>\n",
       "      <td>46.48</td>\n",
       "      <td>16.09</td>\n",
       "      <td>11.41</td>\n",
       "      <td>1.23</td>\n",
       "      <td>6.53</td>\n",
       "      <td>27.62</td>\n",
       "      <td>0.535</td>\n",
       "      <td>6.94</td>\n",
       "      <td>312.0</td>\n",
       "      <td>NaN</td>\n",
       "    </tr>\n",
       "  </tbody>\n",
       "</table>\n",
       "</div>"
      ],
      "text/plain": [
       "    PM2.5    PM10     NO     NO2    NOx    NH3    CO    SO2     O3  Benzene  \\\n",
       "0  149.04  196.33  31.23  112.29  12.77   9.68  0.93  14.04  38.67    0.120   \n",
       "1  140.21  196.33  16.83   31.79  25.73  10.91  1.41  11.94  44.52    0.530   \n",
       "2  266.29  196.33  39.96   50.12  20.48  11.51  1.27  25.45  27.64    0.220   \n",
       "3   88.65  196.33  22.83   38.75  20.64  10.97  2.21  11.76  27.68    1.675   \n",
       "4   51.69  176.65  37.45   46.48  16.09  11.41  1.23   6.53  27.62    0.535   \n",
       "\n",
       "   Toluene    AQI AQI_Bucket  \n",
       "0     8.39  333.0        NaN  \n",
       "1     8.02  318.0        NaN  \n",
       "2     8.35  408.0        NaN  \n",
       "3     6.41  448.0        NaN  \n",
       "4     6.94  312.0        NaN  "
      ]
     },
     "execution_count": 35,
     "metadata": {},
     "output_type": "execute_result"
    }
   ],
   "source": [
    "df_orig.head()"
   ]
  },
  {
   "cell_type": "code",
   "execution_count": 36,
   "id": "8ec7c419-d7aa-459c-8750-b1549f2b22cb",
   "metadata": {
    "tags": []
   },
   "outputs": [],
   "source": [
    "df_non_cat = df_orig.drop(['AQI_Bucket'], axis = 1)"
   ]
  },
  {
   "cell_type": "code",
   "execution_count": 37,
   "id": "413fdc22-ba01-4b8e-a0a1-80ebede2a8b8",
   "metadata": {
    "tags": []
   },
   "outputs": [
    {
     "data": {
      "text/html": [
       "<div>\n",
       "<style scoped>\n",
       "    .dataframe tbody tr th:only-of-type {\n",
       "        vertical-align: middle;\n",
       "    }\n",
       "\n",
       "    .dataframe tbody tr th {\n",
       "        vertical-align: top;\n",
       "    }\n",
       "\n",
       "    .dataframe thead th {\n",
       "        text-align: right;\n",
       "    }\n",
       "</style>\n",
       "<table border=\"1\" class=\"dataframe\">\n",
       "  <thead>\n",
       "    <tr style=\"text-align: right;\">\n",
       "      <th></th>\n",
       "      <th>PM2.5</th>\n",
       "      <th>PM10</th>\n",
       "      <th>NO</th>\n",
       "      <th>NO2</th>\n",
       "      <th>NOx</th>\n",
       "      <th>NH3</th>\n",
       "      <th>CO</th>\n",
       "      <th>SO2</th>\n",
       "      <th>O3</th>\n",
       "      <th>Benzene</th>\n",
       "      <th>Toluene</th>\n",
       "      <th>AQI</th>\n",
       "    </tr>\n",
       "  </thead>\n",
       "  <tbody>\n",
       "    <tr>\n",
       "      <th>0</th>\n",
       "      <td>149.04</td>\n",
       "      <td>196.33</td>\n",
       "      <td>31.23</td>\n",
       "      <td>112.29</td>\n",
       "      <td>12.77</td>\n",
       "      <td>9.68</td>\n",
       "      <td>0.93</td>\n",
       "      <td>14.04</td>\n",
       "      <td>38.67</td>\n",
       "      <td>0.120</td>\n",
       "      <td>8.39</td>\n",
       "      <td>333.0</td>\n",
       "    </tr>\n",
       "    <tr>\n",
       "      <th>1</th>\n",
       "      <td>140.21</td>\n",
       "      <td>196.33</td>\n",
       "      <td>16.83</td>\n",
       "      <td>31.79</td>\n",
       "      <td>25.73</td>\n",
       "      <td>10.91</td>\n",
       "      <td>1.41</td>\n",
       "      <td>11.94</td>\n",
       "      <td>44.52</td>\n",
       "      <td>0.530</td>\n",
       "      <td>8.02</td>\n",
       "      <td>318.0</td>\n",
       "    </tr>\n",
       "    <tr>\n",
       "      <th>2</th>\n",
       "      <td>266.29</td>\n",
       "      <td>196.33</td>\n",
       "      <td>39.96</td>\n",
       "      <td>50.12</td>\n",
       "      <td>20.48</td>\n",
       "      <td>11.51</td>\n",
       "      <td>1.27</td>\n",
       "      <td>25.45</td>\n",
       "      <td>27.64</td>\n",
       "      <td>0.220</td>\n",
       "      <td>8.35</td>\n",
       "      <td>408.0</td>\n",
       "    </tr>\n",
       "    <tr>\n",
       "      <th>3</th>\n",
       "      <td>88.65</td>\n",
       "      <td>196.33</td>\n",
       "      <td>22.83</td>\n",
       "      <td>38.75</td>\n",
       "      <td>20.64</td>\n",
       "      <td>10.97</td>\n",
       "      <td>2.21</td>\n",
       "      <td>11.76</td>\n",
       "      <td>27.68</td>\n",
       "      <td>1.675</td>\n",
       "      <td>6.41</td>\n",
       "      <td>448.0</td>\n",
       "    </tr>\n",
       "    <tr>\n",
       "      <th>4</th>\n",
       "      <td>51.69</td>\n",
       "      <td>176.65</td>\n",
       "      <td>37.45</td>\n",
       "      <td>46.48</td>\n",
       "      <td>16.09</td>\n",
       "      <td>11.41</td>\n",
       "      <td>1.23</td>\n",
       "      <td>6.53</td>\n",
       "      <td>27.62</td>\n",
       "      <td>0.535</td>\n",
       "      <td>6.94</td>\n",
       "      <td>312.0</td>\n",
       "    </tr>\n",
       "    <tr>\n",
       "      <th>...</th>\n",
       "      <td>...</td>\n",
       "      <td>...</td>\n",
       "      <td>...</td>\n",
       "      <td>...</td>\n",
       "      <td>...</td>\n",
       "      <td>...</td>\n",
       "      <td>...</td>\n",
       "      <td>...</td>\n",
       "      <td>...</td>\n",
       "      <td>...</td>\n",
       "      <td>...</td>\n",
       "      <td>...</td>\n",
       "    </tr>\n",
       "    <tr>\n",
       "      <th>1879</th>\n",
       "      <td>26.42</td>\n",
       "      <td>39.30</td>\n",
       "      <td>7.25</td>\n",
       "      <td>12.96</td>\n",
       "      <td>19.59</td>\n",
       "      <td>33.20</td>\n",
       "      <td>1.10</td>\n",
       "      <td>7.29</td>\n",
       "      <td>68.51</td>\n",
       "      <td>0.100</td>\n",
       "      <td>0.07</td>\n",
       "      <td>95.0</td>\n",
       "    </tr>\n",
       "    <tr>\n",
       "      <th>1880</th>\n",
       "      <td>25.93</td>\n",
       "      <td>45.54</td>\n",
       "      <td>7.81</td>\n",
       "      <td>10.00</td>\n",
       "      <td>16.39</td>\n",
       "      <td>35.98</td>\n",
       "      <td>0.76</td>\n",
       "      <td>6.48</td>\n",
       "      <td>77.45</td>\n",
       "      <td>0.090</td>\n",
       "      <td>0.00</td>\n",
       "      <td>98.0</td>\n",
       "    </tr>\n",
       "    <tr>\n",
       "      <th>1881</th>\n",
       "      <td>21.30</td>\n",
       "      <td>22.21</td>\n",
       "      <td>7.65</td>\n",
       "      <td>9.69</td>\n",
       "      <td>16.74</td>\n",
       "      <td>34.07</td>\n",
       "      <td>0.96</td>\n",
       "      <td>6.62</td>\n",
       "      <td>62.57</td>\n",
       "      <td>0.090</td>\n",
       "      <td>0.01</td>\n",
       "      <td>104.0</td>\n",
       "    </tr>\n",
       "    <tr>\n",
       "      <th>1882</th>\n",
       "      <td>24.14</td>\n",
       "      <td>30.66</td>\n",
       "      <td>8.42</td>\n",
       "      <td>12.38</td>\n",
       "      <td>20.29</td>\n",
       "      <td>34.17</td>\n",
       "      <td>1.05</td>\n",
       "      <td>7.50</td>\n",
       "      <td>68.75</td>\n",
       "      <td>0.170</td>\n",
       "      <td>0.16</td>\n",
       "      <td>110.0</td>\n",
       "    </tr>\n",
       "    <tr>\n",
       "      <th>1883</th>\n",
       "      <td>15.95</td>\n",
       "      <td>4.85</td>\n",
       "      <td>6.22</td>\n",
       "      <td>10.72</td>\n",
       "      <td>16.44</td>\n",
       "      <td>33.52</td>\n",
       "      <td>1.02</td>\n",
       "      <td>9.23</td>\n",
       "      <td>48.37</td>\n",
       "      <td>0.090</td>\n",
       "      <td>0.00</td>\n",
       "      <td>92.0</td>\n",
       "    </tr>\n",
       "  </tbody>\n",
       "</table>\n",
       "<p>1884 rows × 12 columns</p>\n",
       "</div>"
      ],
      "text/plain": [
       "       PM2.5    PM10     NO     NO2    NOx    NH3    CO    SO2     O3  \\\n",
       "0     149.04  196.33  31.23  112.29  12.77   9.68  0.93  14.04  38.67   \n",
       "1     140.21  196.33  16.83   31.79  25.73  10.91  1.41  11.94  44.52   \n",
       "2     266.29  196.33  39.96   50.12  20.48  11.51  1.27  25.45  27.64   \n",
       "3      88.65  196.33  22.83   38.75  20.64  10.97  2.21  11.76  27.68   \n",
       "4      51.69  176.65  37.45   46.48  16.09  11.41  1.23   6.53  27.62   \n",
       "...      ...     ...    ...     ...    ...    ...   ...    ...    ...   \n",
       "1879   26.42   39.30   7.25   12.96  19.59  33.20  1.10   7.29  68.51   \n",
       "1880   25.93   45.54   7.81   10.00  16.39  35.98  0.76   6.48  77.45   \n",
       "1881   21.30   22.21   7.65    9.69  16.74  34.07  0.96   6.62  62.57   \n",
       "1882   24.14   30.66   8.42   12.38  20.29  34.17  1.05   7.50  68.75   \n",
       "1883   15.95    4.85   6.22   10.72  16.44  33.52  1.02   9.23  48.37   \n",
       "\n",
       "      Benzene  Toluene    AQI  \n",
       "0       0.120     8.39  333.0  \n",
       "1       0.530     8.02  318.0  \n",
       "2       0.220     8.35  408.0  \n",
       "3       1.675     6.41  448.0  \n",
       "4       0.535     6.94  312.0  \n",
       "...       ...      ...    ...  \n",
       "1879    0.100     0.07   95.0  \n",
       "1880    0.090     0.00   98.0  \n",
       "1881    0.090     0.01  104.0  \n",
       "1882    0.170     0.16  110.0  \n",
       "1883    0.090     0.00   92.0  \n",
       "\n",
       "[1884 rows x 12 columns]"
      ]
     },
     "execution_count": 37,
     "metadata": {},
     "output_type": "execute_result"
    }
   ],
   "source": [
    "df_non_cat"
   ]
  },
  {
   "cell_type": "code",
   "execution_count": 38,
   "id": "13bdf2a6-a541-4725-b46e-7d2ade5f6195",
   "metadata": {
    "tags": []
   },
   "outputs": [
    {
     "data": {
      "text/plain": [
       "['PM2.5',\n",
       " 'PM10',\n",
       " 'NO',\n",
       " 'NO2',\n",
       " 'NOx',\n",
       " 'NH3',\n",
       " 'CO',\n",
       " 'SO2',\n",
       " 'O3',\n",
       " 'Benzene',\n",
       " 'Toluene',\n",
       " 'AQI']"
      ]
     },
     "execution_count": 38,
     "metadata": {},
     "output_type": "execute_result"
    }
   ],
   "source": [
    "num_keys"
   ]
  },
  {
   "cell_type": "code",
   "execution_count": 39,
   "id": "3984a21b-51c2-4a09-b527-20771a3732f5",
   "metadata": {
    "tags": []
   },
   "outputs": [],
   "source": [
    "y = df_orig[num_keys.pop()].values\n",
    "\n",
    "X = df_orig[num_keys].values\n",
    "\n",
    "num_keys.append('AQI')"
   ]
  },
  {
   "cell_type": "code",
   "execution_count": 43,
   "id": "7c83ee29-f8ce-4789-b3d0-f9fcaed47bd9",
   "metadata": {
    "tags": []
   },
   "outputs": [],
   "source": [
    "X_train, X_test, y_train, y_test = train_test_split(X, y, test_size = 0.25)"
   ]
  },
  {
   "cell_type": "code",
   "execution_count": 44,
   "id": "0ab1b49a-7a56-4094-a365-c235a8a35546",
   "metadata": {
    "tags": []
   },
   "outputs": [
    {
     "data": {
      "text/plain": [
       "((1413, 11), (471, 11))"
      ]
     },
     "execution_count": 44,
     "metadata": {},
     "output_type": "execute_result"
    }
   ],
   "source": [
    "X_train.shape, X_test.shape"
   ]
  },
  {
   "cell_type": "code",
   "execution_count": 45,
   "id": "f4ecc417-f6f8-44b4-b2bb-06fda0f15e30",
   "metadata": {
    "tags": []
   },
   "outputs": [
    {
     "data": {
      "text/plain": [
       "((1413,), (471,))"
      ]
     },
     "execution_count": 45,
     "metadata": {},
     "output_type": "execute_result"
    }
   ],
   "source": [
    "y_train.shape, y_test.shape"
   ]
  },
  {
   "cell_type": "code",
   "execution_count": 62,
   "id": "684a1943-50e8-45d3-ab93-2220c3150f3e",
   "metadata": {
    "tags": []
   },
   "outputs": [
    {
     "name": "stdout",
     "output_type": "stream",
     "text": [
      "Ephoch 1, Loss: 16324.2197265625\n",
      "Ephoch 11, Loss: 16275.064453125\n",
      "Ephoch 21, Loss: 16091.482421875\n",
      "Ephoch 31, Loss: 15390.7001953125\n",
      "Ephoch 41, Loss: 12891.4111328125\n",
      "Ephoch 51, Loss: 6617.02392578125\n",
      "Ephoch 61, Loss: 5548.685546875\n",
      "Ephoch 71, Loss: 4823.1318359375\n",
      "Ephoch 81, Loss: 4315.4677734375\n",
      "Ephoch 91, Loss: 4038.652587890625\n"
     ]
    }
   ],
   "source": [
    "losses, epochs = model.fit(X_train, y_train)"
   ]
  },
  {
   "cell_type": "code",
   "execution_count": 64,
   "id": "8bcaf6c5-203f-4d97-ac62-f9db8a4c6439",
   "metadata": {
    "tags": []
   },
   "outputs": [
    {
     "data": {
      "text/plain": [
       "<Axes: >"
      ]
     },
     "execution_count": 64,
     "metadata": {},
     "output_type": "execute_result"
    },
    {
     "data": {
      "image/png": "[encoded data removed]",
      "text/plain": [
       "<Figure size 640x480 with 1 Axes>"
      ]
     },
     "metadata": {},
     "output_type": "display_data"
    }
   ],
   "source": [
    "sns.lineplot(y = losses, x = range(epochs))"
   ]
  },
  {
   "cell_type": "code",
   "execution_count": 66,
   "id": "bfc79243-335c-47a4-8fc7-d6aa4d6ecdf3",
   "metadata": {
    "tags": []
   },
   "outputs": [],
   "source": [
    "y_pred_train = model.predict(X_train)\n",
    "y_pred_test = model.predict(X_test)"
   ]
  },
  {
   "cell_type": "code",
   "execution_count": 70,
   "id": "44853300-dcc7-424e-a210-3e202895fb2b",
   "metadata": {
    "tags": []
   },
   "outputs": [
    {
     "data": {
      "text/plain": [
       "4028.562181816996"
      ]
     },
     "execution_count": 70,
     "metadata": {},
     "output_type": "execute_result"
    }
   ],
   "source": [
    "mean_squared_error(y_pred_train, y_train)"
   ]
  },
  {
   "cell_type": "code",
   "execution_count": 71,
   "id": "719e42c6-0316-4129-bc82-4e4cfa59bbdf",
   "metadata": {
    "tags": []
   },
   "outputs": [
    {
     "data": {
      "text/plain": [
       "4181.631705634527"
      ]
     },
     "execution_count": 71,
     "metadata": {},
     "output_type": "execute_result"
    }
   ],
   "source": [
    "mean_squared_error(y_pred_test, y_test)"
   ]
  },
  {
   "cell_type": "code",
   "execution_count": 75,
   "id": "1af0e9de-f9af-4fb7-b950-8d992a63185b",
   "metadata": {
    "tags": []
   },
   "outputs": [],
   "source": [
    "model_1000 = Model(epochs = 1000)"
   ]
  },
  {
   "cell_type": "code",
   "execution_count": 81,
   "id": "aaaf92ad-264d-4ef1-8ff8-c619f13e19b5",
   "metadata": {
    "tags": []
   },
   "outputs": [],
   "source": [
    "losses = list(map(lambda x: x.numpy(), losses))"
   ]
  },
  {
   "cell_type": "code",
   "execution_count": 77,
   "id": "789f4098-8cec-48fb-9b78-cb241b4d147b",
   "metadata": {
    "tags": []
   },
   "outputs": [
    {
     "name": "stdout",
     "output_type": "stream",
     "text": [
      "Ephoch 1, Loss: 16328.4619140625\n",
      "Ephoch 11, Loss: 16237.353515625\n",
      "Ephoch 21, Loss: 15959.630859375\n",
      "Ephoch 31, Loss: 14976.0400390625\n",
      "Ephoch 41, Loss: 11653.6455078125\n",
      "Ephoch 51, Loss: 5439.27490234375\n",
      "Ephoch 61, Loss: 4824.79736328125\n",
      "Ephoch 71, Loss: 4500.333984375\n",
      "Ephoch 81, Loss: 4104.513671875\n",
      "Ephoch 91, Loss: 3856.30419921875\n",
      "Ephoch 101, Loss: 3705.333251953125\n",
      "Ephoch 111, Loss: 3597.51416015625\n",
      "Ephoch 121, Loss: 3511.680908203125\n",
      "Ephoch 131, Loss: 3439.666748046875\n",
      "Ephoch 141, Loss: 3375.52978515625\n",
      "Ephoch 151, Loss: 3315.874755859375\n",
      "Ephoch 161, Loss: 3258.145751953125\n",
      "Ephoch 171, Loss: 3198.876220703125\n",
      "Ephoch 181, Loss: 3140.952880859375\n",
      "Ephoch 191, Loss: 3086.109619140625\n",
      "Ephoch 201, Loss: 3034.144775390625\n",
      "Ephoch 211, Loss: 2987.472412109375\n",
      "Ephoch 221, Loss: 2950.091552734375\n",
      "Ephoch 231, Loss: 2922.711181640625\n",
      "Ephoch 241, Loss: 2903.98095703125\n",
      "Ephoch 251, Loss: 2891.5087890625\n",
      "Ephoch 261, Loss: 2882.898681640625\n",
      "Ephoch 271, Loss: 2876.671875\n",
      "Ephoch 281, Loss: 2871.991943359375\n",
      "Ephoch 291, Loss: 2868.284912109375\n",
      "Ephoch 301, Loss: 2865.22998046875\n",
      "Ephoch 311, Loss: 2862.622314453125\n",
      "Ephoch 321, Loss: 2860.404541015625\n",
      "Ephoch 331, Loss: 2858.5869140625\n",
      "Ephoch 341, Loss: 2857.052001953125\n",
      "Ephoch 351, Loss: 2855.716552734375\n",
      "Ephoch 361, Loss: 2854.574951171875\n",
      "Ephoch 371, Loss: 2853.587646484375\n",
      "Ephoch 381, Loss: 2852.71923828125\n",
      "Ephoch 391, Loss: 2851.961669921875\n",
      "Ephoch 401, Loss: 2851.31494140625\n",
      "Ephoch 411, Loss: 2850.736083984375\n",
      "Ephoch 421, Loss: 2850.22265625\n",
      "Ephoch 431, Loss: 2849.762451171875\n",
      "Ephoch 441, Loss: 2849.337890625\n",
      "Ephoch 451, Loss: 2848.923828125\n",
      "Ephoch 461, Loss: 2848.544189453125\n",
      "Ephoch 471, Loss: 2848.195068359375\n",
      "Ephoch 481, Loss: 2847.867919921875\n",
      "Ephoch 491, Loss: 2847.572265625\n",
      "Ephoch 501, Loss: 2847.3037109375\n",
      "Ephoch 511, Loss: 2847.0625\n",
      "Ephoch 521, Loss: 2846.83740234375\n",
      "Ephoch 531, Loss: 2846.619873046875\n",
      "Ephoch 541, Loss: 2846.41357421875\n",
      "Ephoch 551, Loss: 2846.223388671875\n",
      "Ephoch 561, Loss: 2846.0458984375\n",
      "Ephoch 571, Loss: 2845.886474609375\n",
      "Ephoch 581, Loss: 2845.741455078125\n",
      "Ephoch 591, Loss: 2845.60888671875\n",
      "Ephoch 601, Loss: 2845.48828125\n",
      "Ephoch 611, Loss: 2845.377685546875\n",
      "Ephoch 621, Loss: 2845.27490234375\n",
      "Ephoch 631, Loss: 2845.18017578125\n",
      "Ephoch 641, Loss: 2845.0927734375\n",
      "Ephoch 651, Loss: 2845.010986328125\n",
      "Ephoch 661, Loss: 2844.934814453125\n",
      "Ephoch 671, Loss: 2844.862060546875\n",
      "Ephoch 681, Loss: 2844.79296875\n",
      "Ephoch 691, Loss: 2844.728271484375\n",
      "Ephoch 701, Loss: 2844.667724609375\n",
      "Ephoch 711, Loss: 2844.61083984375\n",
      "Ephoch 721, Loss: 2844.56103515625\n",
      "Ephoch 731, Loss: 2844.513916015625\n",
      "Ephoch 741, Loss: 2844.466796875\n",
      "Ephoch 751, Loss: 2844.423828125\n",
      "Ephoch 761, Loss: 2844.3984375\n",
      "Ephoch 771, Loss: 2844.354248046875\n",
      "Ephoch 781, Loss: 2844.31396484375\n",
      "Ephoch 791, Loss: 2844.283935546875\n",
      "Ephoch 801, Loss: 2844.253662109375\n",
      "Ephoch 811, Loss: 2844.252197265625\n",
      "Ephoch 821, Loss: 2844.205078125\n",
      "Ephoch 831, Loss: 2844.172607421875\n",
      "Ephoch 841, Loss: 2844.14404296875\n",
      "Ephoch 851, Loss: 2844.1171875\n",
      "Ephoch 861, Loss: 2844.099853515625\n",
      "Ephoch 871, Loss: 2844.068359375\n",
      "Ephoch 881, Loss: 2844.05078125\n",
      "Ephoch 891, Loss: 2844.00732421875\n",
      "Ephoch 901, Loss: 2843.9794921875\n",
      "Ephoch 911, Loss: 2843.953369140625\n",
      "Ephoch 921, Loss: 2843.9375\n",
      "Ephoch 931, Loss: 2843.908447265625\n",
      "Ephoch 941, Loss: 2843.890380859375\n",
      "Ephoch 951, Loss: 2843.879638671875\n",
      "Ephoch 961, Loss: 2843.8681640625\n",
      "Ephoch 971, Loss: 2843.837646484375\n",
      "Ephoch 981, Loss: 2843.822509765625\n",
      "Ephoch 991, Loss: 2843.794921875\n"
     ]
    }
   ],
   "source": [
    "losses, epochs = model_1000.fit(X_train, y_train)"
   ]
  },
  {
   "cell_type": "code",
   "execution_count": 80,
   "id": "14b77ed3-91fc-4dec-a40f-2588f0a0d21a",
   "metadata": {
    "tags": []
   },
   "outputs": [
    {
     "data": {
      "text/plain": [
       "<Axes: >"
      ]
     },
     "execution_count": 80,
     "metadata": {},
     "output_type": "execute_result"
    },
    {
     "data": {
      "image/png": "[encoded data removed]",
      "text/plain": [
       "<Figure size 640x480 with 1 Axes>"
      ]
     },
     "metadata": {},
     "output_type": "display_data"
    }
   ],
   "source": [
    "\n",
    "sns.lineplot(x = range(epochs), y = losses)"
   ]
  },
  {
   "cell_type": "code",
   "execution_count": 82,
   "id": "1e872011-5acd-4601-bcee-ebaf68b7b1b8",
   "metadata": {
    "tags": []
   },
   "outputs": [],
   "source": [
    "y_pred_train_1000 = model.predict(X_train)\n",
    "y_pred_test_1000 = model.predict(X_test)"
   ]
  },
  {
   "cell_type": "code",
   "execution_count": 83,
   "id": "44be69b5-6fc1-48f2-be62-ced3fe875e47",
   "metadata": {
    "tags": []
   },
   "outputs": [
    {
     "data": {
      "text/plain": [
       "(4028.562181816996, 4181.631705634527)"
      ]
     },
     "execution_count": 83,
     "metadata": {},
     "output_type": "execute_result"
    }
   ],
   "source": [
    "mean_squared_error(y_pred_train_1000, y_train), mean_squared_error(y_pred_test_1000, y_test)"
   ]
  },
  {
   "cell_type": "code",
   "execution_count": 94,
   "id": "d669d08a-d798-4385-8145-60bb57a90832",
   "metadata": {
    "tags": []
   },
   "outputs": [],
   "source": [
    "model_f = Model(epochs = 500, num_layers = 128, num_units = 64)"
   ]
  },
  {
   "cell_type": "code",
   "execution_count": 95,
   "id": "b6bd0338-e32f-425a-af47-ab7e577b2376",
   "metadata": {
    "tags": []
   },
   "outputs": [
    {
     "name": "stdout",
     "output_type": "stream",
     "text": [
      "Ephoch 1, Loss: 16326.544921875\n",
      "Ephoch 11, Loss: 10302.724609375\n",
      "Ephoch 21, Loss: 13410.16015625\n",
      "Ephoch 31, Loss: 13381.296875\n",
      "Ephoch 41, Loss: 16066.8291015625\n",
      "Ephoch 51, Loss: 16085.3134765625\n",
      "Ephoch 61, Loss: 16062.2451171875\n",
      "Ephoch 71, Loss: 15133.7568359375\n",
      "Ephoch 81, Loss: 14036.9697265625\n",
      "Ephoch 91, Loss: 11526.2421875\n",
      "Ephoch 101, Loss: 3212.961669921875\n",
      "Ephoch 111, Loss: 2996.328125\n",
      "Ephoch 121, Loss: 2917.1591796875\n",
      "Ephoch 131, Loss: 2874.4091796875\n",
      "Ephoch 141, Loss: 2879.552490234375\n",
      "Ephoch 151, Loss: 2847.5458984375\n",
      "Ephoch 161, Loss: 2852.445068359375\n",
      "Ephoch 171, Loss: 2845.885498046875\n",
      "Ephoch 181, Loss: 2845.373046875\n",
      "Ephoch 191, Loss: 2846.98974609375\n",
      "Ephoch 201, Loss: 2852.944091796875\n",
      "Ephoch 211, Loss: 2861.465087890625\n",
      "Ephoch 221, Loss: 2857.546630859375\n",
      "Ephoch 231, Loss: 2850.226806640625\n",
      "Ephoch 241, Loss: 2847.41796875\n",
      "Ephoch 251, Loss: 2846.984130859375\n",
      "Ephoch 261, Loss: 2847.80810546875\n",
      "Ephoch 271, Loss: 2848.234130859375\n",
      "Ephoch 281, Loss: 2845.6669921875\n",
      "Ephoch 291, Loss: 2845.318115234375\n",
      "Ephoch 301, Loss: 2846.43408203125\n",
      "Ephoch 311, Loss: 2850.93212890625\n",
      "Ephoch 321, Loss: 2863.535888671875\n",
      "Ephoch 331, Loss: 2870.851806640625\n",
      "Ephoch 341, Loss: 2861.8291015625\n",
      "Ephoch 351, Loss: 2853.93896484375\n",
      "Ephoch 361, Loss: 2850.815185546875\n",
      "Ephoch 371, Loss: 2850.571533203125\n",
      "Ephoch 381, Loss: 2852.517822265625\n",
      "Ephoch 391, Loss: 2857.67578125\n",
      "Ephoch 401, Loss: 2864.949462890625\n",
      "Ephoch 411, Loss: 2868.796142578125\n",
      "Ephoch 421, Loss: 2868.27685546875\n",
      "Ephoch 431, Loss: 2862.656494140625\n",
      "Ephoch 441, Loss: 2857.0634765625\n",
      "Ephoch 451, Loss: 2854.636962890625\n",
      "Ephoch 461, Loss: 2854.74365234375\n",
      "Ephoch 471, Loss: 2857.117919921875\n",
      "Ephoch 481, Loss: 2861.625\n",
      "Ephoch 491, Loss: 2867.119140625\n"
     ]
    }
   ],
   "source": [
    "losses, epochs = model_f.fit(X_train, y_train)"
   ]
  },
  {
   "cell_type": "code",
   "execution_count": 97,
   "id": "2f40bf9b-8d21-424d-a096-7bb8a4b7db9d",
   "metadata": {
    "tags": []
   },
   "outputs": [],
   "source": [
    "model_ff = Model(epochs = 300, num_layers = 128, num_units = 64, learning_rate = 0.01)"
   ]
  },
  {
   "cell_type": "code",
   "execution_count": 98,
   "id": "207a2292-5431-4eee-9f23-027ae9420073",
   "metadata": {
    "tags": []
   },
   "outputs": [
    {
     "name": "stdout",
     "output_type": "stream",
     "text": [
      "Ephoch 1, Loss: 16326.544921875\n",
      "Ephoch 11, Loss: 16271.7265625\n",
      "Ephoch 21, Loss: 7998.75146484375\n",
      "Ephoch 31, Loss: 3063.89697265625\n",
      "Ephoch 41, Loss: 3413.93603515625\n",
      "Ephoch 51, Loss: 3560.014892578125\n",
      "Ephoch 61, Loss: 3608.119873046875\n",
      "Ephoch 71, Loss: 3599.896240234375\n",
      "Ephoch 81, Loss: 3580.734619140625\n",
      "Ephoch 91, Loss: 3525.656494140625\n",
      "Ephoch 101, Loss: 3473.93798828125\n",
      "Ephoch 111, Loss: 3425.889892578125\n",
      "Ephoch 121, Loss: 3387.65673828125\n",
      "Ephoch 131, Loss: 3409.619140625\n",
      "Ephoch 141, Loss: 3350.835205078125\n",
      "Ephoch 151, Loss: 3339.188720703125\n",
      "Ephoch 161, Loss: 3263.902099609375\n",
      "Ephoch 171, Loss: 3238.827392578125\n",
      "Ephoch 181, Loss: 3363.835205078125\n",
      "Ephoch 191, Loss: 3301.1943359375\n",
      "Ephoch 201, Loss: 3220.8408203125\n",
      "Ephoch 211, Loss: 3186.765380859375\n",
      "Ephoch 221, Loss: 3167.8076171875\n",
      "Ephoch 231, Loss: 3158.109375\n",
      "Ephoch 241, Loss: 3152.705322265625\n",
      "Ephoch 251, Loss: 3143.662841796875\n",
      "Ephoch 261, Loss: 3139.710205078125\n",
      "Ephoch 271, Loss: 3122.404541015625\n",
      "Ephoch 281, Loss: 3115.489501953125\n",
      "Ephoch 291, Loss: 3108.6796875\n"
     ]
    }
   ],
   "source": [
    "losses, epochs = model_ff.fit(X_train, y_train)"
   ]
  },
  {
   "cell_type": "code",
   "execution_count": 103,
   "id": "5c988ff9-73ae-4b06-a265-9c007a231852",
   "metadata": {
    "tags": []
   },
   "outputs": [],
   "source": [
    "model_fff = Model(epochs = 500, num_layers = 128, num_units = 128, learning_rate = 0.001)"
   ]
  },
  {
   "cell_type": "code",
   "execution_count": 104,
   "id": "2b1fc234-b7e0-4ce6-84ca-4e0b6aed5e42",
   "metadata": {
    "tags": []
   },
   "outputs": [
    {
     "name": "stdout",
     "output_type": "stream",
     "text": [
      "Ephoch 1, Loss: 16326.544921875\n",
      "Ephoch 11, Loss: 15481.93359375\n",
      "Ephoch 21, Loss: 16191.3701171875\n",
      "Ephoch 31, Loss: 16239.306640625\n",
      "Ephoch 41, Loss: 15487.0498046875\n",
      "Ephoch 51, Loss: 15994.083984375\n",
      "Ephoch 61, Loss: 6668.61572265625\n",
      "Ephoch 71, Loss: 4706.88037109375\n",
      "Ephoch 81, Loss: 3986.208740234375\n",
      "Ephoch 91, Loss: 3743.058349609375\n",
      "Ephoch 101, Loss: 3543.166748046875\n",
      "Ephoch 111, Loss: 3355.038330078125\n",
      "Ephoch 121, Loss: 3277.943359375\n",
      "Ephoch 131, Loss: 3227.393798828125\n",
      "Ephoch 141, Loss: 3156.436767578125\n",
      "Ephoch 151, Loss: 3155.300537109375\n",
      "Ephoch 161, Loss: 3344.39453125\n",
      "Ephoch 171, Loss: 3127.07568359375\n",
      "Ephoch 181, Loss: 3100.850341796875\n",
      "Ephoch 191, Loss: 3099.07568359375\n",
      "Ephoch 201, Loss: 3125.211181640625\n",
      "Ephoch 211, Loss: 3123.00732421875\n",
      "Ephoch 221, Loss: 3134.40966796875\n",
      "Ephoch 231, Loss: 3141.43701171875\n",
      "Ephoch 241, Loss: 3147.492919921875\n",
      "Ephoch 251, Loss: 3164.044189453125\n",
      "Ephoch 261, Loss: 3166.77734375\n",
      "Ephoch 271, Loss: 3170.01171875\n",
      "Ephoch 281, Loss: 3176.66357421875\n",
      "Ephoch 291, Loss: 3203.21044921875\n",
      "Ephoch 301, Loss: 3184.19580078125\n",
      "Ephoch 311, Loss: 3177.967529296875\n",
      "Ephoch 321, Loss: 3195.189208984375\n",
      "Ephoch 331, Loss: 3185.11962890625\n",
      "Ephoch 341, Loss: 3187.4560546875\n",
      "Ephoch 351, Loss: 3192.049072265625\n",
      "Ephoch 361, Loss: 3197.003173828125\n",
      "Ephoch 371, Loss: 3200.849609375\n",
      "Ephoch 381, Loss: 3204.451904296875\n",
      "Ephoch 391, Loss: 3210.910400390625\n",
      "Ephoch 401, Loss: 3214.60302734375\n",
      "Ephoch 411, Loss: 3215.563720703125\n",
      "Ephoch 421, Loss: 3243.5048828125\n",
      "Ephoch 431, Loss: 3237.2275390625\n",
      "Ephoch 441, Loss: 3231.459716796875\n",
      "Ephoch 451, Loss: 3230.1865234375\n",
      "Ephoch 461, Loss: 3228.064697265625\n",
      "Ephoch 471, Loss: 3226.510498046875\n",
      "Ephoch 481, Loss: 3215.923583984375\n",
      "Ephoch 491, Loss: 3217.543212890625\n"
     ]
    },
    {
     "data": {
      "text/plain": [
       "([<tf.Tensor: shape=(), dtype=float32, numpy=16326.545>,\n",
       "  <tf.Tensor: shape=(), dtype=float32, numpy=16323.231>,\n",
       "  <tf.Tensor: shape=(), dtype=float32, numpy=16317.688>,\n",
       "  <tf.Tensor: shape=(), dtype=float32, numpy=16308.67>,\n",
       "  <tf.Tensor: shape=(), dtype=float32, numpy=16288.334>,\n",
       "  <tf.Tensor: shape=(), dtype=float32, numpy=16202.292>,\n",
       "  <tf.Tensor: shape=(), dtype=float32, numpy=15043.751>,\n",
       "  <tf.Tensor: shape=(), dtype=float32, numpy=11910.768>,\n",
       "  <tf.Tensor: shape=(), dtype=float32, numpy=15312.77>,\n",
       "  <tf.Tensor: shape=(), dtype=float32, numpy=15409.147>,\n",
       "  <tf.Tensor: shape=(), dtype=float32, numpy=15481.934>,\n",
       "  <tf.Tensor: shape=(), dtype=float32, numpy=15532.914>,\n",
       "  <tf.Tensor: shape=(), dtype=float32, numpy=15565.506>,\n",
       "  <tf.Tensor: shape=(), dtype=float32, numpy=15583.248>,\n",
       "  <tf.Tensor: shape=(), dtype=float32, numpy=15588.585>,\n",
       "  <tf.Tensor: shape=(), dtype=float32, numpy=15582.182>,\n",
       "  <tf.Tensor: shape=(), dtype=float32, numpy=15563.122>,\n",
       "  <tf.Tensor: shape=(), dtype=float32, numpy=15524.875>,\n",
       "  <tf.Tensor: shape=(), dtype=float32, numpy=13173.622>,\n",
       "  <tf.Tensor: shape=(), dtype=float32, numpy=1449288800.0>,\n",
       "  <tf.Tensor: shape=(), dtype=float32, numpy=16191.37>,\n",
       "  <tf.Tensor: shape=(), dtype=float32, numpy=16201.925>,\n",
       "  <tf.Tensor: shape=(), dtype=float32, numpy=16210.443>,\n",
       "  <tf.Tensor: shape=(), dtype=float32, numpy=16217.335>,\n",
       "  <tf.Tensor: shape=(), dtype=float32, numpy=16222.996>,\n",
       "  <tf.Tensor: shape=(), dtype=float32, numpy=16227.642>,\n",
       "  <tf.Tensor: shape=(), dtype=float32, numpy=16231.459>,\n",
       "  <tf.Tensor: shape=(), dtype=float32, numpy=16234.5205>,\n",
       "  <tf.Tensor: shape=(), dtype=float32, numpy=16236.869>,\n",
       "  <tf.Tensor: shape=(), dtype=float32, numpy=16238.377>,\n",
       "  <tf.Tensor: shape=(), dtype=float32, numpy=16239.307>,\n",
       "  <tf.Tensor: shape=(), dtype=float32, numpy=16239.449>,\n",
       "  <tf.Tensor: shape=(), dtype=float32, numpy=16238.381>,\n",
       "  <tf.Tensor: shape=(), dtype=float32, numpy=16236.208>,\n",
       "  <tf.Tensor: shape=(), dtype=float32, numpy=16231.916>,\n",
       "  <tf.Tensor: shape=(), dtype=float32, numpy=16218.985>,\n",
       "  <tf.Tensor: shape=(), dtype=float32, numpy=16114.063>,\n",
       "  <tf.Tensor: shape=(), dtype=float32, numpy=14154.001>,\n",
       "  <tf.Tensor: shape=(), dtype=float32, numpy=61818.95>,\n",
       "  <tf.Tensor: shape=(), dtype=float32, numpy=15212.532>,\n",
       "  <tf.Tensor: shape=(), dtype=float32, numpy=15487.05>,\n",
       "  <tf.Tensor: shape=(), dtype=float32, numpy=15670.14>,\n",
       "  <tf.Tensor: shape=(), dtype=float32, numpy=15790.435>,\n",
       "  <tf.Tensor: shape=(), dtype=float32, numpy=15870.094>,\n",
       "  <tf.Tensor: shape=(), dtype=float32, numpy=15923.928>,\n",
       "  <tf.Tensor: shape=(), dtype=float32, numpy=15962.02>,\n",
       "  <tf.Tensor: shape=(), dtype=float32, numpy=15987.782>,\n",
       "  <tf.Tensor: shape=(), dtype=float32, numpy=16003.22>,\n",
       "  <tf.Tensor: shape=(), dtype=float32, numpy=16009.533>,\n",
       "  <tf.Tensor: shape=(), dtype=float32, numpy=16007.005>,\n",
       "  <tf.Tensor: shape=(), dtype=float32, numpy=15994.084>,\n",
       "  <tf.Tensor: shape=(), dtype=float32, numpy=15970.854>,\n",
       "  <tf.Tensor: shape=(), dtype=float32, numpy=15934.013>,\n",
       "  <tf.Tensor: shape=(), dtype=float32, numpy=15872.888>,\n",
       "  <tf.Tensor: shape=(), dtype=float32, numpy=15768.344>,\n",
       "  <tf.Tensor: shape=(), dtype=float32, numpy=15583.105>,\n",
       "  <tf.Tensor: shape=(), dtype=float32, numpy=15228.448>,\n",
       "  <tf.Tensor: shape=(), dtype=float32, numpy=14474.973>,\n",
       "  <tf.Tensor: shape=(), dtype=float32, numpy=12710.803>,\n",
       "  <tf.Tensor: shape=(), dtype=float32, numpy=8492.823>,\n",
       "  <tf.Tensor: shape=(), dtype=float32, numpy=6668.6157>,\n",
       "  <tf.Tensor: shape=(), dtype=float32, numpy=9595.488>,\n",
       "  <tf.Tensor: shape=(), dtype=float32, numpy=6709.1655>,\n",
       "  <tf.Tensor: shape=(), dtype=float32, numpy=4765.521>,\n",
       "  <tf.Tensor: shape=(), dtype=float32, numpy=4688.071>,\n",
       "  <tf.Tensor: shape=(), dtype=float32, numpy=4689.1943>,\n",
       "  <tf.Tensor: shape=(), dtype=float32, numpy=4823.354>,\n",
       "  <tf.Tensor: shape=(), dtype=float32, numpy=4757.866>,\n",
       "  <tf.Tensor: shape=(), dtype=float32, numpy=5330.6816>,\n",
       "  <tf.Tensor: shape=(), dtype=float32, numpy=4471.989>,\n",
       "  <tf.Tensor: shape=(), dtype=float32, numpy=4706.8804>,\n",
       "  <tf.Tensor: shape=(), dtype=float32, numpy=4366.171>,\n",
       "  <tf.Tensor: shape=(), dtype=float32, numpy=4609.8413>,\n",
       "  <tf.Tensor: shape=(), dtype=float32, numpy=4194.6416>,\n",
       "  <tf.Tensor: shape=(), dtype=float32, numpy=4376.7104>,\n",
       "  <tf.Tensor: shape=(), dtype=float32, numpy=4062.8>,\n",
       "  <tf.Tensor: shape=(), dtype=float32, numpy=4223.564>,\n",
       "  <tf.Tensor: shape=(), dtype=float32, numpy=3947.8274>,\n",
       "  <tf.Tensor: shape=(), dtype=float32, numpy=4106.538>,\n",
       "  <tf.Tensor: shape=(), dtype=float32, numpy=3841.8538>,\n",
       "  <tf.Tensor: shape=(), dtype=float32, numpy=3986.2087>,\n",
       "  <tf.Tensor: shape=(), dtype=float32, numpy=3746.562>,\n",
       "  <tf.Tensor: shape=(), dtype=float32, numpy=3892.8325>,\n",
       "  <tf.Tensor: shape=(), dtype=float32, numpy=3684.4573>,\n",
       "  <tf.Tensor: shape=(), dtype=float32, numpy=3850.8171>,\n",
       "  <tf.Tensor: shape=(), dtype=float32, numpy=3607.0474>,\n",
       "  <tf.Tensor: shape=(), dtype=float32, numpy=3766.7888>,\n",
       "  <tf.Tensor: shape=(), dtype=float32, numpy=3545.49>,\n",
       "  <tf.Tensor: shape=(), dtype=float32, numpy=3710.5864>,\n",
       "  <tf.Tensor: shape=(), dtype=float32, numpy=3510.5457>,\n",
       "  <tf.Tensor: shape=(), dtype=float32, numpy=3743.0583>,\n",
       "  <tf.Tensor: shape=(), dtype=float32, numpy=3466.871>,\n",
       "  <tf.Tensor: shape=(), dtype=float32, numpy=3709.03>,\n",
       "  <tf.Tensor: shape=(), dtype=float32, numpy=3395.9226>,\n",
       "  <tf.Tensor: shape=(), dtype=float32, numpy=3587.8672>,\n",
       "  <tf.Tensor: shape=(), dtype=float32, numpy=3351.7388>,\n",
       "  <tf.Tensor: shape=(), dtype=float32, numpy=3535.8022>,\n",
       "  <tf.Tensor: shape=(), dtype=float32, numpy=3314.6643>,\n",
       "  <tf.Tensor: shape=(), dtype=float32, numpy=3503.075>,\n",
       "  <tf.Tensor: shape=(), dtype=float32, numpy=3301.5222>,\n",
       "  <tf.Tensor: shape=(), dtype=float32, numpy=3543.1667>,\n",
       "  <tf.Tensor: shape=(), dtype=float32, numpy=3311.9338>,\n",
       "  <tf.Tensor: shape=(), dtype=float32, numpy=3604.486>,\n",
       "  <tf.Tensor: shape=(), dtype=float32, numpy=3247.5347>,\n",
       "  <tf.Tensor: shape=(), dtype=float32, numpy=3464.4329>,\n",
       "  <tf.Tensor: shape=(), dtype=float32, numpy=3217.445>,\n",
       "  <tf.Tensor: shape=(), dtype=float32, numpy=3416.5286>,\n",
       "  <tf.Tensor: shape=(), dtype=float32, numpy=3193.3171>,\n",
       "  <tf.Tensor: shape=(), dtype=float32, numpy=3382.063>,\n",
       "  <tf.Tensor: shape=(), dtype=float32, numpy=3172.6038>,\n",
       "  <tf.Tensor: shape=(), dtype=float32, numpy=3355.0383>,\n",
       "  <tf.Tensor: shape=(), dtype=float32, numpy=3149.4426>,\n",
       "  <tf.Tensor: shape=(), dtype=float32, numpy=3326.3198>,\n",
       "  <tf.Tensor: shape=(), dtype=float32, numpy=3141.3777>,\n",
       "  <tf.Tensor: shape=(), dtype=float32, numpy=3320.859>,\n",
       "  <tf.Tensor: shape=(), dtype=float32, numpy=3127.6238>,\n",
       "  <tf.Tensor: shape=(), dtype=float32, numpy=3302.4763>,\n",
       "  <tf.Tensor: shape=(), dtype=float32, numpy=3120.0615>,\n",
       "  <tf.Tensor: shape=(), dtype=float32, numpy=3299.933>,\n",
       "  <tf.Tensor: shape=(), dtype=float32, numpy=3106.3706>,\n",
       "  <tf.Tensor: shape=(), dtype=float32, numpy=3277.9434>,\n",
       "  <tf.Tensor: shape=(), dtype=float32, numpy=3096.2517>,\n",
       "  <tf.Tensor: shape=(), dtype=float32, numpy=3260.3428>,\n",
       "  <tf.Tensor: shape=(), dtype=float32, numpy=3089.1362>,\n",
       "  <tf.Tensor: shape=(), dtype=float32, numpy=3254.0698>,\n",
       "  <tf.Tensor: shape=(), dtype=float32, numpy=3078.3103>,\n",
       "  <tf.Tensor: shape=(), dtype=float32, numpy=3253.2354>,\n",
       "  <tf.Tensor: shape=(), dtype=float32, numpy=3114.4229>,\n",
       "  <tf.Tensor: shape=(), dtype=float32, numpy=3333.9214>,\n",
       "  <tf.Tensor: shape=(), dtype=float32, numpy=3074.3164>,\n",
       "  <tf.Tensor: shape=(), dtype=float32, numpy=3227.3938>,\n",
       "  <tf.Tensor: shape=(), dtype=float32, numpy=3058.2812>,\n",
       "  <tf.Tensor: shape=(), dtype=float32, numpy=3196.4133>,\n",
       "  <tf.Tensor: shape=(), dtype=float32, numpy=3046.3262>,\n",
       "  <tf.Tensor: shape=(), dtype=float32, numpy=3176.8403>,\n",
       "  <tf.Tensor: shape=(), dtype=float32, numpy=3040.8804>,\n",
       "  <tf.Tensor: shape=(), dtype=float32, numpy=3168.377>,\n",
       "  <tf.Tensor: shape=(), dtype=float32, numpy=3036.1726>,\n",
       "  <tf.Tensor: shape=(), dtype=float32, numpy=3161.4558>,\n",
       "  <tf.Tensor: shape=(), dtype=float32, numpy=3032.529>,\n",
       "  <tf.Tensor: shape=(), dtype=float32, numpy=3156.4368>,\n",
       "  <tf.Tensor: shape=(), dtype=float32, numpy=3029.9763>,\n",
       "  <tf.Tensor: shape=(), dtype=float32, numpy=3153.3494>,\n",
       "  <tf.Tensor: shape=(), dtype=float32, numpy=3027.7817>,\n",
       "  <tf.Tensor: shape=(), dtype=float32, numpy=3150.571>,\n",
       "  <tf.Tensor: shape=(), dtype=float32, numpy=3025.812>,\n",
       "  <tf.Tensor: shape=(), dtype=float32, numpy=3147.955>,\n",
       "  <tf.Tensor: shape=(), dtype=float32, numpy=3023.9946>,\n",
       "  <tf.Tensor: shape=(), dtype=float32, numpy=3150.3867>,\n",
       "  <tf.Tensor: shape=(), dtype=float32, numpy=3028.6536>,\n",
       "  <tf.Tensor: shape=(), dtype=float32, numpy=3155.3005>,\n",
       "  <tf.Tensor: shape=(), dtype=float32, numpy=3023.4324>,\n",
       "  <tf.Tensor: shape=(), dtype=float32, numpy=3145.6128>,\n",
       "  <tf.Tensor: shape=(), dtype=float32, numpy=3015.3538>,\n",
       "  <tf.Tensor: shape=(), dtype=float32, numpy=3145.738>,\n",
       "  <tf.Tensor: shape=(), dtype=float32, numpy=3023.3142>,\n",
       "  <tf.Tensor: shape=(), dtype=float32, numpy=3174.851>,\n",
       "  <tf.Tensor: shape=(), dtype=float32, numpy=3051.2324>,\n",
       "  <tf.Tensor: shape=(), dtype=float32, numpy=3275.2024>,\n",
       "  <tf.Tensor: shape=(), dtype=float32, numpy=3108.5806>,\n",
       "  <tf.Tensor: shape=(), dtype=float32, numpy=3344.3945>,\n",
       "  <tf.Tensor: shape=(), dtype=float32, numpy=3062.9985>,\n",
       "  <tf.Tensor: shape=(), dtype=float32, numpy=3232.3167>,\n",
       "  <tf.Tensor: shape=(), dtype=float32, numpy=3039.1182>,\n",
       "  <tf.Tensor: shape=(), dtype=float32, numpy=3179.0913>,\n",
       "  <tf.Tensor: shape=(), dtype=float32, numpy=3025.8079>,\n",
       "  <tf.Tensor: shape=(), dtype=float32, numpy=3150.2368>,\n",
       "  <tf.Tensor: shape=(), dtype=float32, numpy=3016.1077>,\n",
       "  <tf.Tensor: shape=(), dtype=float32, numpy=3132.3542>,\n",
       "  <tf.Tensor: shape=(), dtype=float32, numpy=3013.0042>,\n",
       "  <tf.Tensor: shape=(), dtype=float32, numpy=3127.0757>,\n",
       "  <tf.Tensor: shape=(), dtype=float32, numpy=3008.1094>,\n",
       "  <tf.Tensor: shape=(), dtype=float32, numpy=3115.5947>,\n",
       "  <tf.Tensor: shape=(), dtype=float32, numpy=3003.2817>,\n",
       "  <tf.Tensor: shape=(), dtype=float32, numpy=3118.4614>,\n",
       "  <tf.Tensor: shape=(), dtype=float32, numpy=3015.9624>,\n",
       "  <tf.Tensor: shape=(), dtype=float32, numpy=3130.3147>,\n",
       "  <tf.Tensor: shape=(), dtype=float32, numpy=3005.2778>,\n",
       "  <tf.Tensor: shape=(), dtype=float32, numpy=3109.9663>,\n",
       "  <tf.Tensor: shape=(), dtype=float32, numpy=3000.057>,\n",
       "  <tf.Tensor: shape=(), dtype=float32, numpy=3100.8503>,\n",
       "  <tf.Tensor: shape=(), dtype=float32, numpy=2997.8242>,\n",
       "  <tf.Tensor: shape=(), dtype=float32, numpy=3097.1223>,\n",
       "  <tf.Tensor: shape=(), dtype=float32, numpy=2996.7168>,\n",
       "  <tf.Tensor: shape=(), dtype=float32, numpy=3095.437>,\n",
       "  <tf.Tensor: shape=(), dtype=float32, numpy=2996.4353>,\n",
       "  <tf.Tensor: shape=(), dtype=float32, numpy=3095.4683>,\n",
       "  <tf.Tensor: shape=(), dtype=float32, numpy=2996.8032>,\n",
       "  <tf.Tensor: shape=(), dtype=float32, numpy=3096.941>,\n",
       "  <tf.Tensor: shape=(), dtype=float32, numpy=2997.644>,\n",
       "  <tf.Tensor: shape=(), dtype=float32, numpy=3099.0757>,\n",
       "  <tf.Tensor: shape=(), dtype=float32, numpy=2998.6292>,\n",
       "  <tf.Tensor: shape=(), dtype=float32, numpy=3101.4458>,\n",
       "  <tf.Tensor: shape=(), dtype=float32, numpy=2999.8386>,\n",
       "  <tf.Tensor: shape=(), dtype=float32, numpy=3105.028>,\n",
       "  <tf.Tensor: shape=(), dtype=float32, numpy=3002.0022>,\n",
       "  <tf.Tensor: shape=(), dtype=float32, numpy=3120.882>,\n",
       "  <tf.Tensor: shape=(), dtype=float32, numpy=3018.3608>,\n",
       "  <tf.Tensor: shape=(), dtype=float32, numpy=3141.1653>,\n",
       "  <tf.Tensor: shape=(), dtype=float32, numpy=3010.6953>,\n",
       "  <tf.Tensor: shape=(), dtype=float32, numpy=3125.2112>,\n",
       "  <tf.Tensor: shape=(), dtype=float32, numpy=3006.8984>,\n",
       "  <tf.Tensor: shape=(), dtype=float32, numpy=3118.9734>,\n",
       "  <tf.Tensor: shape=(), dtype=float32, numpy=3006.486>,\n",
       "  <tf.Tensor: shape=(), dtype=float32, numpy=3118.663>,\n",
       "  <tf.Tensor: shape=(), dtype=float32, numpy=3006.9424>,\n",
       "  <tf.Tensor: shape=(), dtype=float32, numpy=3119.8867>,\n",
       "  <tf.Tensor: shape=(), dtype=float32, numpy=3007.5088>,\n",
       "  <tf.Tensor: shape=(), dtype=float32, numpy=3121.2576>,\n",
       "  <tf.Tensor: shape=(), dtype=float32, numpy=3008.0813>,\n",
       "  <tf.Tensor: shape=(), dtype=float32, numpy=3123.0073>,\n",
       "  <tf.Tensor: shape=(), dtype=float32, numpy=3009.1963>,\n",
       "  <tf.Tensor: shape=(), dtype=float32, numpy=3126.3606>,\n",
       "  <tf.Tensor: shape=(), dtype=float32, numpy=3011.097>,\n",
       "  <tf.Tensor: shape=(), dtype=float32, numpy=3129.7905>,\n",
       "  <tf.Tensor: shape=(), dtype=float32, numpy=3011.9346>,\n",
       "  <tf.Tensor: shape=(), dtype=float32, numpy=3131.5684>,\n",
       "  <tf.Tensor: shape=(), dtype=float32, numpy=3012.6777>,\n",
       "  <tf.Tensor: shape=(), dtype=float32, numpy=3133.082>,\n",
       "  <tf.Tensor: shape=(), dtype=float32, numpy=3013.1306>,\n",
       "  <tf.Tensor: shape=(), dtype=float32, numpy=3134.4097>,\n",
       "  <tf.Tensor: shape=(), dtype=float32, numpy=3013.9993>,\n",
       "  <tf.Tensor: shape=(), dtype=float32, numpy=3136.2322>,\n",
       "  <tf.Tensor: shape=(), dtype=float32, numpy=3014.636>,\n",
       "  <tf.Tensor: shape=(), dtype=float32, numpy=3137.5906>,\n",
       "  <tf.Tensor: shape=(), dtype=float32, numpy=3015.1223>,\n",
       "  <tf.Tensor: shape=(), dtype=float32, numpy=3138.6746>,\n",
       "  <tf.Tensor: shape=(), dtype=float32, numpy=3015.537>,\n",
       "  <tf.Tensor: shape=(), dtype=float32, numpy=3139.8206>,\n",
       "  <tf.Tensor: shape=(), dtype=float32, numpy=3016.3088>,\n",
       "  <tf.Tensor: shape=(), dtype=float32, numpy=3141.437>,\n",
       "  <tf.Tensor: shape=(), dtype=float32, numpy=3016.819>,\n",
       "  <tf.Tensor: shape=(), dtype=float32, numpy=3142.6157>,\n",
       "  <tf.Tensor: shape=(), dtype=float32, numpy=3017.308>,\n",
       "  <tf.Tensor: shape=(), dtype=float32, numpy=3143.8428>,\n",
       "  <tf.Tensor: shape=(), dtype=float32, numpy=3017.937>,\n",
       "  <tf.Tensor: shape=(), dtype=float32, numpy=3145.1292>,\n",
       "  <tf.Tensor: shape=(), dtype=float32, numpy=3018.2983>,\n",
       "  <tf.Tensor: shape=(), dtype=float32, numpy=3146.1501>,\n",
       "  <tf.Tensor: shape=(), dtype=float32, numpy=3018.8992>,\n",
       "  <tf.Tensor: shape=(), dtype=float32, numpy=3147.493>,\n",
       "  <tf.Tensor: shape=(), dtype=float32, numpy=3019.44>,\n",
       "  <tf.Tensor: shape=(), dtype=float32, numpy=3148.734>,\n",
       "  <tf.Tensor: shape=(), dtype=float32, numpy=3019.9016>,\n",
       "  <tf.Tensor: shape=(), dtype=float32, numpy=3150.1008>,\n",
       "  <tf.Tensor: shape=(), dtype=float32, numpy=3020.766>,\n",
       "  <tf.Tensor: shape=(), dtype=float32, numpy=3156.4656>,\n",
       "  <tf.Tensor: shape=(), dtype=float32, numpy=3032.3015>,\n",
       "  <tf.Tensor: shape=(), dtype=float32, numpy=3180.6826>,\n",
       "  <tf.Tensor: shape=(), dtype=float32, numpy=3026.9612>,\n",
       "  <tf.Tensor: shape=(), dtype=float32, numpy=3164.0442>,\n",
       "  <tf.Tensor: shape=(), dtype=float32, numpy=3023.7554>,\n",
       "  <tf.Tensor: shape=(), dtype=float32, numpy=3160.1733>,\n",
       "  <tf.Tensor: shape=(), dtype=float32, numpy=3025.1963>,\n",
       "  <tf.Tensor: shape=(), dtype=float32, numpy=3163.522>,\n",
       "  <tf.Tensor: shape=(), dtype=float32, numpy=3028.5588>,\n",
       "  <tf.Tensor: shape=(), dtype=float32, numpy=3171.007>,\n",
       "  <tf.Tensor: shape=(), dtype=float32, numpy=3028.1372>,\n",
       "  <tf.Tensor: shape=(), dtype=float32, numpy=3168.486>,\n",
       "  <tf.Tensor: shape=(), dtype=float32, numpy=3027.3113>,\n",
       "  <tf.Tensor: shape=(), dtype=float32, numpy=3166.7773>,\n",
       "  <tf.Tensor: shape=(), dtype=float32, numpy=3027.0833>,\n",
       "  <tf.Tensor: shape=(), dtype=float32, numpy=3166.2593>,\n",
       "  <tf.Tensor: shape=(), dtype=float32, numpy=3026.963>,\n",
       "  <tf.Tensor: shape=(), dtype=float32, numpy=3166.0251>,\n",
       "  <tf.Tensor: shape=(), dtype=float32, numpy=3026.855>,\n",
       "  <tf.Tensor: shape=(), dtype=float32, numpy=3166.908>,\n",
       "  <tf.Tensor: shape=(), dtype=float32, numpy=3028.251>,\n",
       "  <tf.Tensor: shape=(), dtype=float32, numpy=3169.5164>,\n",
       "  <tf.Tensor: shape=(), dtype=float32, numpy=3028.4617>,\n",
       "  <tf.Tensor: shape=(), dtype=float32, numpy=3170.0117>,\n",
       "  <tf.Tensor: shape=(), dtype=float32, numpy=3028.9573>,\n",
       "  <tf.Tensor: shape=(), dtype=float32, numpy=3173.237>,\n",
       "  <tf.Tensor: shape=(), dtype=float32, numpy=3030.7944>,\n",
       "  <tf.Tensor: shape=(), dtype=float32, numpy=3176.193>,\n",
       "  <tf.Tensor: shape=(), dtype=float32, numpy=3033.0173>,\n",
       "  <tf.Tensor: shape=(), dtype=float32, numpy=3181.632>,\n",
       "  <tf.Tensor: shape=(), dtype=float32, numpy=3032.4023>,\n",
       "  <tf.Tensor: shape=(), dtype=float32, numpy=3179.0857>,\n",
       "  <tf.Tensor: shape=(), dtype=float32, numpy=3031.4229>,\n",
       "  <tf.Tensor: shape=(), dtype=float32, numpy=3176.6636>,\n",
       "  <tf.Tensor: shape=(), dtype=float32, numpy=3031.4355>,\n",
       "  <tf.Tensor: shape=(), dtype=float32, numpy=3177.9197>,\n",
       "  <tf.Tensor: shape=(), dtype=float32, numpy=3031.341>,\n",
       "  <tf.Tensor: shape=(), dtype=float32, numpy=3176.3494>,\n",
       "  <tf.Tensor: shape=(), dtype=float32, numpy=3030.704>,\n",
       "  <tf.Tensor: shape=(), dtype=float32, numpy=3175.7786>,\n",
       "  <tf.Tensor: shape=(), dtype=float32, numpy=3031.5383>,\n",
       "  <tf.Tensor: shape=(), dtype=float32, numpy=3180.9888>,\n",
       "  <tf.Tensor: shape=(), dtype=float32, numpy=3036.229>,\n",
       "  <tf.Tensor: shape=(), dtype=float32, numpy=3203.2104>,\n",
       "  <tf.Tensor: shape=(), dtype=float32, numpy=3073.5757>,\n",
       "  <tf.Tensor: shape=(), dtype=float32, numpy=3286.3276>,\n",
       "  <tf.Tensor: shape=(), dtype=float32, numpy=3047.1387>,\n",
       "  <tf.Tensor: shape=(), dtype=float32, numpy=3207.5144>,\n",
       "  <tf.Tensor: shape=(), dtype=float32, numpy=3037.438>,\n",
       "  <tf.Tensor: shape=(), dtype=float32, numpy=3187.786>,\n",
       "  <tf.Tensor: shape=(), dtype=float32, numpy=3039.3235>,\n",
       "  <tf.Tensor: shape=(), dtype=float32, numpy=3197.5063>,\n",
       "  <tf.Tensor: shape=(), dtype=float32, numpy=3035.5234>,\n",
       "  <tf.Tensor: shape=(), dtype=float32, numpy=3184.1958>,\n",
       "  <tf.Tensor: shape=(), dtype=float32, numpy=3033.184>,\n",
       "  <tf.Tensor: shape=(), dtype=float32, numpy=3179.7144>,\n",
       "  <tf.Tensor: shape=(), dtype=float32, numpy=3032.2764>,\n",
       "  <tf.Tensor: shape=(), dtype=float32, numpy=3178.1458>,\n",
       "  <tf.Tensor: shape=(), dtype=float32, numpy=3031.9321>,\n",
       "  <tf.Tensor: shape=(), dtype=float32, numpy=3177.67>,\n",
       "  <tf.Tensor: shape=(), dtype=float32, numpy=3031.8428>,\n",
       "  <tf.Tensor: shape=(), dtype=float32, numpy=3177.679>,\n",
       "  <tf.Tensor: shape=(), dtype=float32, numpy=3031.8528>,\n",
       "  <tf.Tensor: shape=(), dtype=float32, numpy=3177.9675>,\n",
       "  <tf.Tensor: shape=(), dtype=float32, numpy=3032.0315>,\n",
       "  <tf.Tensor: shape=(), dtype=float32, numpy=3178.5457>,\n",
       "  <tf.Tensor: shape=(), dtype=float32, numpy=3032.3384>,\n",
       "  <tf.Tensor: shape=(), dtype=float32, numpy=3179.1929>,\n",
       "  <tf.Tensor: shape=(), dtype=float32, numpy=3032.5503>,\n",
       "  <tf.Tensor: shape=(), dtype=float32, numpy=3186.0771>,\n",
       "  <tf.Tensor: shape=(), dtype=float32, numpy=3049.093>,\n",
       "  <tf.Tensor: shape=(), dtype=float32, numpy=3224.0923>,\n",
       "  <tf.Tensor: shape=(), dtype=float32, numpy=3040.2356>,\n",
       "  <tf.Tensor: shape=(), dtype=float32, numpy=3195.1892>,\n",
       "  <tf.Tensor: shape=(), dtype=float32, numpy=3036.193>,\n",
       "  <tf.Tensor: shape=(), dtype=float32, numpy=3187.0842>,\n",
       "  <tf.Tensor: shape=(), dtype=float32, numpy=3034.8252>,\n",
       "  <tf.Tensor: shape=(), dtype=float32, numpy=3184.6907>,\n",
       "  <tf.Tensor: shape=(), dtype=float32, numpy=3034.627>,\n",
       "  <tf.Tensor: shape=(), dtype=float32, numpy=3184.4197>,\n",
       "  <tf.Tensor: shape=(), dtype=float32, numpy=3034.7273>,\n",
       "  <tf.Tensor: shape=(), dtype=float32, numpy=3184.8376>,\n",
       "  <tf.Tensor: shape=(), dtype=float32, numpy=3034.7773>,\n",
       "  <tf.Tensor: shape=(), dtype=float32, numpy=3185.1196>,\n",
       "  <tf.Tensor: shape=(), dtype=float32, numpy=3034.9307>,\n",
       "  <tf.Tensor: shape=(), dtype=float32, numpy=3185.7278>,\n",
       "  <tf.Tensor: shape=(), dtype=float32, numpy=3035.2534>,\n",
       "  <tf.Tensor: shape=(), dtype=float32, numpy=3186.2363>,\n",
       "  <tf.Tensor: shape=(), dtype=float32, numpy=3035.175>,\n",
       "  <tf.Tensor: shape=(), dtype=float32, numpy=3186.57>,\n",
       "  <tf.Tensor: shape=(), dtype=float32, numpy=3035.4238>,\n",
       "  <tf.Tensor: shape=(), dtype=float32, numpy=3186.9094>,\n",
       "  <tf.Tensor: shape=(), dtype=float32, numpy=3035.6526>,\n",
       "  <tf.Tensor: shape=(), dtype=float32, numpy=3187.456>,\n",
       "  <tf.Tensor: shape=(), dtype=float32, numpy=3035.8938>,\n",
       "  <tf.Tensor: shape=(), dtype=float32, numpy=3188.0764>,\n",
       "  <tf.Tensor: shape=(), dtype=float32, numpy=3036.1072>,\n",
       "  <tf.Tensor: shape=(), dtype=float32, numpy=3188.7053>,\n",
       "  <tf.Tensor: shape=(), dtype=float32, numpy=3036.44>,\n",
       "  <tf.Tensor: shape=(), dtype=float32, numpy=3189.733>,\n",
       "  <tf.Tensor: shape=(), dtype=float32, numpy=3036.8591>,\n",
       "  <tf.Tensor: shape=(), dtype=float32, numpy=3190.7544>,\n",
       "  <tf.Tensor: shape=(), dtype=float32, numpy=3037.4246>,\n",
       "  <tf.Tensor: shape=(), dtype=float32, numpy=3192.049>,\n",
       "  <tf.Tensor: shape=(), dtype=float32, numpy=3037.8157>,\n",
       "  <tf.Tensor: shape=(), dtype=float32, numpy=3193.1501>,\n",
       "  <tf.Tensor: shape=(), dtype=float32, numpy=3038.5432>,\n",
       "  <tf.Tensor: shape=(), dtype=float32, numpy=3194.6924>,\n",
       "  <tf.Tensor: shape=(), dtype=float32, numpy=3038.7349>,\n",
       "  <tf.Tensor: shape=(), dtype=float32, numpy=3195.1707>,\n",
       "  <tf.Tensor: shape=(), dtype=float32, numpy=3039.3054>,\n",
       "  <tf.Tensor: shape=(), dtype=float32, numpy=3196.5498>,\n",
       "  <tf.Tensor: shape=(), dtype=float32, numpy=3039.459>,\n",
       "  <tf.Tensor: shape=(), dtype=float32, numpy=3197.0032>,\n",
       "  <tf.Tensor: shape=(), dtype=float32, numpy=3039.76>,\n",
       "  <tf.Tensor: shape=(), dtype=float32, numpy=3197.748>,\n",
       "  <tf.Tensor: shape=(), dtype=float32, numpy=3040.0198>,\n",
       "  <tf.Tensor: shape=(), dtype=float32, numpy=3198.3953>,\n",
       "  <tf.Tensor: shape=(), dtype=float32, numpy=3040.2668>,\n",
       "  <tf.Tensor: shape=(), dtype=float32, numpy=3199.17>,\n",
       "  <tf.Tensor: shape=(), dtype=float32, numpy=3040.675>,\n",
       "  <tf.Tensor: shape=(), dtype=float32, numpy=3200.089>,\n",
       "  <tf.Tensor: shape=(), dtype=float32, numpy=3040.9836>,\n",
       "  <tf.Tensor: shape=(), dtype=float32, numpy=3200.8496>,\n",
       "  <tf.Tensor: shape=(), dtype=float32, numpy=3041.2764>,\n",
       "  <tf.Tensor: shape=(), dtype=float32, numpy=3201.5754>,\n",
       "  <tf.Tensor: shape=(), dtype=float32, numpy=3042.288>,\n",
       "  <tf.Tensor: shape=(), dtype=float32, numpy=3204.6924>,\n",
       "  <tf.Tensor: shape=(), dtype=float32, numpy=3042.2764>,\n",
       "  <tf.Tensor: shape=(), dtype=float32, numpy=3203.7668>,\n",
       "  <tf.Tensor: shape=(), dtype=float32, numpy=3042.1323>,\n",
       "  <tf.Tensor: shape=(), dtype=float32, numpy=3203.8354>,\n",
       "  <tf.Tensor: shape=(), dtype=float32, numpy=3042.404>,\n",
       "  <tf.Tensor: shape=(), dtype=float32, numpy=3204.452>,\n",
       "  <tf.Tensor: shape=(), dtype=float32, numpy=3042.7495>,\n",
       "  <tf.Tensor: shape=(), dtype=float32, numpy=3205.2537>,\n",
       "  <tf.Tensor: shape=(), dtype=float32, numpy=3042.9739>,\n",
       "  <tf.Tensor: shape=(), dtype=float32, numpy=3205.826>,\n",
       "  <tf.Tensor: shape=(), dtype=float32, numpy=3043.1968>,\n",
       "  <tf.Tensor: shape=(), dtype=float32, numpy=3207.2463>,\n",
       "  <tf.Tensor: shape=(), dtype=float32, numpy=3044.379>,\n",
       "  <tf.Tensor: shape=(), dtype=float32, numpy=3209.7583>,\n",
       "  <tf.Tensor: shape=(), dtype=float32, numpy=3044.914>,\n",
       "  <tf.Tensor: shape=(), dtype=float32, numpy=3210.9104>,\n",
       "  <tf.Tensor: shape=(), dtype=float32, numpy=3045.2212>,\n",
       "  <tf.Tensor: shape=(), dtype=float32, numpy=3211.805>,\n",
       "  <tf.Tensor: shape=(), dtype=float32, numpy=3045.7063>,\n",
       "  <tf.Tensor: shape=(), dtype=float32, numpy=3212.853>,\n",
       "  <tf.Tensor: shape=(), dtype=float32, numpy=3045.9758>,\n",
       "  <tf.Tensor: shape=(), dtype=float32, numpy=3213.4497>,\n",
       "  <tf.Tensor: shape=(), dtype=float32, numpy=3046.1628>,\n",
       "  <tf.Tensor: shape=(), dtype=float32, numpy=3213.882>,\n",
       "  <tf.Tensor: shape=(), dtype=float32, numpy=3046.451>,\n",
       "  <tf.Tensor: shape=(), dtype=float32, numpy=3214.603>,\n",
       "  <tf.Tensor: shape=(), dtype=float32, numpy=3046.5833>,\n",
       "  <tf.Tensor: shape=(), dtype=float32, numpy=3214.9639>,\n",
       "  <tf.Tensor: shape=(), dtype=float32, numpy=3067.355>,\n",
       "  <tf.Tensor: shape=(), dtype=float32, numpy=3280.1365>,\n",
       "  <tf.Tensor: shape=(), dtype=float32, numpy=3056.344>,\n",
       "  <tf.Tensor: shape=(), dtype=float32, numpy=3236.443>,\n",
       "  <tf.Tensor: shape=(), dtype=float32, numpy=3049.8857>,\n",
       "  <tf.Tensor: shape=(), dtype=float32, numpy=3220.7046>,\n",
       "  <tf.Tensor: shape=(), dtype=float32, numpy=3047.5735>,\n",
       "  <tf.Tensor: shape=(), dtype=float32, numpy=3215.5637>,\n",
       "  <tf.Tensor: shape=(), dtype=float32, numpy=3046.436>,\n",
       "  <tf.Tensor: shape=(), dtype=float32, numpy=3213.3865>,\n",
       "  <tf.Tensor: shape=(), dtype=float32, numpy=3045.9243>,\n",
       "  <tf.Tensor: shape=(), dtype=float32, numpy=3220.2039>,\n",
       "  <tf.Tensor: shape=(), dtype=float32, numpy=3055.3662>,\n",
       "  <tf.Tensor: shape=(), dtype=float32, numpy=3239.856>,\n",
       "  <tf.Tensor: shape=(), dtype=float32, numpy=3057.327>,\n",
       "  <tf.Tensor: shape=(), dtype=float32, numpy=3243.4873>,\n",
       "  <tf.Tensor: shape=(), dtype=float32, numpy=3057.58>,\n",
       "  <tf.Tensor: shape=(), dtype=float32, numpy=3243.505>,\n",
       "  <tf.Tensor: shape=(), dtype=float32, numpy=3057.3132>,\n",
       "  <tf.Tensor: shape=(), dtype=float32, numpy=3242.4873>,\n",
       "  <tf.Tensor: shape=(), dtype=float32, numpy=3056.875>,\n",
       "  <tf.Tensor: shape=(), dtype=float32, numpy=3241.3157>,\n",
       "  <tf.Tensor: shape=(), dtype=float32, numpy=3056.535>,\n",
       "  <tf.Tensor: shape=(), dtype=float32, numpy=3240.1511>,\n",
       "  <tf.Tensor: shape=(), dtype=float32, numpy=3056.01>,\n",
       "  <tf.Tensor: shape=(), dtype=float32, numpy=3238.7244>,\n",
       "  <tf.Tensor: shape=(), dtype=float32, numpy=3055.4978>,\n",
       "  <tf.Tensor: shape=(), dtype=float32, numpy=3237.2275>,\n",
       "  <tf.Tensor: shape=(), dtype=float32, numpy=3054.8442>,\n",
       "  <tf.Tensor: shape=(), dtype=float32, numpy=3235.6133>,\n",
       "  <tf.Tensor: shape=(), dtype=float32, numpy=3054.3362>,\n",
       "  <tf.Tensor: shape=(), dtype=float32, numpy=3234.3213>,\n",
       "  <tf.Tensor: shape=(), dtype=float32, numpy=3053.884>,\n",
       "  <tf.Tensor: shape=(), dtype=float32, numpy=3233.2207>,\n",
       "  <tf.Tensor: shape=(), dtype=float32, numpy=3053.4678>,\n",
       "  <tf.Tensor: shape=(), dtype=float32, numpy=3232.258>,\n",
       "  <tf.Tensor: shape=(), dtype=float32, numpy=3053.1787>,\n",
       "  <tf.Tensor: shape=(), dtype=float32, numpy=3231.4597>,\n",
       "  <tf.Tensor: shape=(), dtype=float32, numpy=3052.7827>,\n",
       "  <tf.Tensor: shape=(), dtype=float32, numpy=3230.5828>,\n",
       "  <tf.Tensor: shape=(), dtype=float32, numpy=3052.645>,\n",
       "  <tf.Tensor: shape=(), dtype=float32, numpy=3230.367>,\n",
       "  <tf.Tensor: shape=(), dtype=float32, numpy=3052.6624>,\n",
       "  <tf.Tensor: shape=(), dtype=float32, numpy=3230.2966>,\n",
       "  <tf.Tensor: shape=(), dtype=float32, numpy=3052.526>,\n",
       "  <tf.Tensor: shape=(), dtype=float32, numpy=3229.8962>,\n",
       "  <tf.Tensor: shape=(), dtype=float32, numpy=3052.501>,\n",
       "  <tf.Tensor: shape=(), dtype=float32, numpy=3230.1865>,\n",
       "  <tf.Tensor: shape=(), dtype=float32, numpy=3052.3167>,\n",
       "  <tf.Tensor: shape=(), dtype=float32, numpy=3229.3457>,\n",
       "  <tf.Tensor: shape=(), dtype=float32, numpy=3052.0032>,\n",
       "  <tf.Tensor: shape=(), dtype=float32, numpy=3228.801>,\n",
       "  <tf.Tensor: shape=(), dtype=float32, numpy=3051.8882>,\n",
       "  <tf.Tensor: shape=(), dtype=float32, numpy=3228.5024>,\n",
       "  <tf.Tensor: shape=(), dtype=float32, numpy=3051.933>,\n",
       "  <tf.Tensor: shape=(), dtype=float32, numpy=3228.4883>,\n",
       "  <tf.Tensor: shape=(), dtype=float32, numpy=3051.7644>,\n",
       "  <tf.Tensor: shape=(), dtype=float32, numpy=3228.0647>,\n",
       "  <tf.Tensor: shape=(), dtype=float32, numpy=3051.6157>,\n",
       "  <tf.Tensor: shape=(), dtype=float32, numpy=3227.6943>,\n",
       "  <tf.Tensor: shape=(), dtype=float32, numpy=3051.4731>,\n",
       "  <tf.Tensor: shape=(), dtype=float32, numpy=3227.3372>,\n",
       "  <tf.Tensor: shape=(), dtype=float32, numpy=3051.3218>,\n",
       "  <tf.Tensor: shape=(), dtype=float32, numpy=3227.0127>,\n",
       "  <tf.Tensor: shape=(), dtype=float32, numpy=3051.262>,\n",
       "  <tf.Tensor: shape=(), dtype=float32, numpy=3226.8157>,\n",
       "  <tf.Tensor: shape=(), dtype=float32, numpy=3051.1416>,\n",
       "  <tf.Tensor: shape=(), dtype=float32, numpy=3226.5105>,\n",
       "  <tf.Tensor: shape=(), dtype=float32, numpy=3051.0188>,\n",
       "  <tf.Tensor: shape=(), dtype=float32, numpy=3226.2097>,\n",
       "  <tf.Tensor: shape=(), dtype=float32, numpy=3050.9111>,\n",
       "  <tf.Tensor: shape=(), dtype=float32, numpy=3225.9385>,\n",
       "  <tf.Tensor: shape=(), dtype=float32, numpy=3050.7812>,\n",
       "  <tf.Tensor: shape=(), dtype=float32, numpy=3223.5872>,\n",
       "  <tf.Tensor: shape=(), dtype=float32, numpy=3047.8672>,\n",
       "  <tf.Tensor: shape=(), dtype=float32, numpy=3217.4553>,\n",
       "  <tf.Tensor: shape=(), dtype=float32, numpy=3047.0513>,\n",
       "  <tf.Tensor: shape=(), dtype=float32, numpy=3215.9236>,\n",
       "  <tf.Tensor: shape=(), dtype=float32, numpy=3046.9785>,\n",
       "  <tf.Tensor: shape=(), dtype=float32, numpy=3215.8684>,\n",
       "  <tf.Tensor: shape=(), dtype=float32, numpy=3047.0015>,\n",
       "  <tf.Tensor: shape=(), dtype=float32, numpy=3216.9858>,\n",
       "  <tf.Tensor: shape=(), dtype=float32, numpy=3047.6023>,\n",
       "  <tf.Tensor: shape=(), dtype=float32, numpy=3217.463>,\n",
       "  <tf.Tensor: shape=(), dtype=float32, numpy=3047.437>,\n",
       "  <tf.Tensor: shape=(), dtype=float32, numpy=3217.218>,\n",
       "  <tf.Tensor: shape=(), dtype=float32, numpy=3047.488>,\n",
       "  <tf.Tensor: shape=(), dtype=float32, numpy=3217.5432>,\n",
       "  <tf.Tensor: shape=(), dtype=float32, numpy=3047.747>,\n",
       "  <tf.Tensor: shape=(), dtype=float32, numpy=3218.3843>,\n",
       "  <tf.Tensor: shape=(), dtype=float32, numpy=3047.9993>,\n",
       "  <tf.Tensor: shape=(), dtype=float32, numpy=3218.9844>,\n",
       "  <tf.Tensor: shape=(), dtype=float32, numpy=3048.3564>,\n",
       "  <tf.Tensor: shape=(), dtype=float32, numpy=3219.7664>,\n",
       "  <tf.Tensor: shape=(), dtype=float32, numpy=3048.943>,\n",
       "  <tf.Tensor: shape=(), dtype=float32, numpy=3223.0408>,\n",
       "  <tf.Tensor: shape=(), dtype=float32, numpy=3050.3447>],\n",
       " 500)"
      ]
     },
     "execution_count": 104,
     "metadata": {},
     "output_type": "execute_result"
    }
   ],
   "source": [
    "model_fff.fit(X_train, y_train)"
   ]
  },
  {
   "cell_type": "code",
   "execution_count": 164,
   "id": "e842450d-d512-4e6f-99e6-92cef176e610",
   "metadata": {
    "tags": []
   },
   "outputs": [],
   "source": [
    "model_final = Model(learning_rate = 0.01, num_layers = 16, num_units = 32, epochs = 300)"
   ]
  },
  {
   "cell_type": "code",
   "execution_count": 165,
   "id": "13fa45de-3f2f-4db8-bbe5-11745bb14421",
   "metadata": {
    "tags": []
   },
   "outputs": [],
   "source": [
    "losses, epochs = model_final.fit(X_train, y_train)"
   ]
  },
  {
   "cell_type": "code",
   "execution_count": 166,
   "id": "3a515349-dd74-4ed4-a287-e710f17b367f",
   "metadata": {
    "tags": []
   },
   "outputs": [],
   "source": [
    "losses = list(map(lambda x: x.numpy(), losses))"
   ]
  },
  {
   "cell_type": "code",
   "execution_count": 167,
   "id": "da737123-6f58-4cf7-b3bb-4dd6c6a3867e",
   "metadata": {
    "tags": []
   },
   "outputs": [
    {
     "data": {
      "text/plain": [
       "<Axes: >"
      ]
     },
     "execution_count": 167,
     "metadata": {},
     "output_type": "execute_result"
    },
    {
     "data": {
      "image/png": "[encoded data removed]",
      "text/plain": [
       "<Figure size 640x480 with 1 Axes>"
      ]
     },
     "metadata": {},
     "output_type": "display_data"
    }
   ],
   "source": [
    "sns.lineplot(x = range(epochs), y = losses)"
   ]
  },
  {
   "cell_type": "code",
   "execution_count": 168,
   "id": "523a6c06-c278-4954-9cd9-799147fd82f4",
   "metadata": {
    "tags": []
   },
   "outputs": [],
   "source": [
    "y_pred_train = model_final.predict(X_train)"
   ]
  },
  {
   "cell_type": "code",
   "execution_count": 169,
   "id": "47a24969-de65-4045-85e6-46ac382e64a3",
   "metadata": {
    "tags": []
   },
   "outputs": [],
   "source": [
    "y_pred_test = model_final.predict(X_test)"
   ]
  },
  {
   "cell_type": "code",
   "execution_count": 170,
   "id": "830cf21a-e92b-4da8-8bb3-bd2c8560292c",
   "metadata": {
    "tags": []
   },
   "outputs": [],
   "source": [
    "train_rmse = np.sqrt(mean_squared_error(y_pred_train, y_train))"
   ]
  },
  {
   "cell_type": "code",
   "execution_count": 171,
   "id": "ded5c1ea-363a-49cc-95c6-3a37b9956005",
   "metadata": {
    "tags": []
   },
   "outputs": [],
   "source": [
    "test_rmse = np.sqrt(mean_squared_error(y_pred_test, y_test))"
   ]
  },
  {
   "cell_type": "code",
   "execution_count": 172,
   "id": "0cbaf2a2-7dbb-4a3b-921a-bf47e0d817c0",
   "metadata": {
    "tags": []
   },
   "outputs": [
    {
     "name": "stdout",
     "output_type": "stream",
     "text": [
      "Train Error: 16.78869922921629\n",
      "Test Error: 26.412273264503536\n"
     ]
    }
   ],
   "source": [
    "print(f'Train Error: { train_rmse }')\n",
    "print(f'Test Error: { test_rmse }')"
   ]
  },
  {
   "cell_type": "code",
   "execution_count": 173,
   "id": "363f447e-982a-40a3-ae20-2a8c7c2518c5",
   "metadata": {
    "tags": []
   },
   "outputs": [
    {
     "data": {
      "text/plain": [
       "<Axes: >"
      ]
     },
     "execution_count": 173,
     "metadata": {},
     "output_type": "execute_result"
    },
    {
     "data": {
      "image/png": "[encoded data removed]",
      "text/plain": [
       "<Figure size 640x480 with 1 Axes>"
      ]
     },
     "metadata": {},
     "output_type": "display_data"
    }
   ],
   "source": [
    "sns.scatterplot(x = X_train[:, 2], y = y_train)\n",
    "sns.scatterplot(x = X_train[:, 2], y = y_pred_train.ravel())\n",
    "\n",
    "\n"
   ]
  },
  {
   "cell_type": "code",
   "execution_count": 174,
   "id": "5c6cbaf9-e4c1-4211-bd82-427fe2060185",
   "metadata": {
    "tags": []
   },
   "outputs": [
    {
     "data": {
      "text/plain": [
       "array([[ 84.2522  ],\n",
       "       [ 78.45618 ],\n",
       "       [ 72.26296 ],\n",
       "       ...,\n",
       "       [118.174164],\n",
       "       [237.44632 ],\n",
       "       [121.22383 ]], dtype=float32)"
      ]
     },
     "execution_count": 174,
     "metadata": {},
     "output_type": "execute_result"
    }
   ],
   "source": [
    "y_pred_train"
   ]
  },
  {
   "cell_type": "code",
   "execution_count": 175,
   "id": "e5bbb899-6f69-41c4-93a2-9f7059f9af75",
   "metadata": {
    "tags": []
   },
   "outputs": [
    {
     "data": {
      "text/plain": [
       "array([[ 79.],\n",
       "       [ 72.],\n",
       "       [ 80.],\n",
       "       ...,\n",
       "       [113.],\n",
       "       [212.],\n",
       "       [127.]])"
      ]
     },
     "execution_count": 175,
     "metadata": {},
     "output_type": "execute_result"
    }
   ],
   "source": [
    "y_train.reshape(-1, 1)"
   ]
  },
  {
   "cell_type": "code",
   "execution_count": 152,
   "id": "74180dd4-ced4-4c31-90e7-f0d1ad2c16db",
   "metadata": {
    "tags": []
   },
   "outputs": [
    {
     "data": {
      "text/plain": [
       "array([ 79.,  72.,  80., ..., 113., 212., 127.])"
      ]
     },
     "execution_count": 152,
     "metadata": {},
     "output_type": "execute_result"
    }
   ],
   "source": [
    "y_train"
   ]
  },
  {
   "cell_type": "code",
   "execution_count": null,
   "id": "36297033-e39b-4990-95ec-d70a1e04a65c",
   "metadata": {},
   "outputs": [],
   "source": []
  }
 ],
 "metadata": {
  "kernelspec": {
   "display_name": "Python 3 (ipykernel)",
   "language": "python",
   "name": "python3"
  },
  "language_info": {
   "codemirror_mode": {
    "name": "ipython",
    "version": 3
   },
   "file_extension": ".py",
   "mimetype": "text/x-python",
   "name": "python",
   "nbconvert_exporter": "python",
   "pygments_lexer": "ipython3",
   "version": "3.10.11"
  }
 },
 "nbformat": 4,
 "nbformat_minor": 5
}
